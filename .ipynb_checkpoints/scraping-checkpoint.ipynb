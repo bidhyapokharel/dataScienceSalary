{
 "cells": [
  {
   "cell_type": "code",
   "execution_count": 1,
   "metadata": {},
   "outputs": [],
   "source": [
    "from selenium.common.exceptions import NoSuchElementException, ElementClickInterceptedException\n",
    "from selenium import webdriver\n",
    "import time\n",
    "import pandas as pd"
   ]
  },
  {
   "cell_type": "code",
   "execution_count": 2,
   "metadata": {},
   "outputs": [],
   "source": [
    "def get_jobs(keyword, num_jobs, verbose, path, slp_time):\n",
    "        options = webdriver.ChromeOptions()\n",
    "        \n",
    "        driver = webdriver.Chrome(executable_path = path, options= options)\n",
    "        driver.set_window_size(1120,1000)\n",
    "        \n",
    "        url = 'https://www.glassdoor.com/Job/jobs.htm?sc.keyword=\"' + keyword + '\"&locT=C&locId=1147401&locKeyword=San%20Francisco,%20CA&jobType=all&fromAge=-1&minSalary=0&includeNoSalaryJobs=true&radius=100&cityId=-1&minRating=0.0&industryId=-1&sgocId=-1&seniorityType=all&companyId=-1&employerSizes=0&applicationType=0&remoteWorkType=0'\n",
    "        driver.get(url)\n",
    "        time.sleep(slp_time)\n",
    "        driver.find_element_by_class_name('gd-btn-mkt').click()\n",
    "        \n",
    "        jobs = []\n",
    "        \n",
    "        while len(jobs) < num_jobs:\n",
    "            time.sleep(slp_time)\n",
    "            \n",
    "#             try:\n",
    "#                 driver.find_element_by_class_name('SVGInline modal_closeIcon').click()\n",
    "#             except ElementClickInterceptedException:\n",
    "#                 pass\n",
    "            \n",
    "            job_buttons = driver.find_elements_by_class_name(\"react-job-listing\")\n",
    "            \n",
    "        \n",
    "            for job_button in job_buttons:\n",
    "                print(\"Progress: {}\".format(\"\" + str(len(jobs)) + \"/\" + str(num_jobs)))\n",
    "            \n",
    "                if len(jobs) >= num_jobs:\n",
    "                    break\n",
    "                \n",
    "                job_button.click()\n",
    "                \n",
    "                \n",
    "                time.sleep(1)\n",
    "                collected_successfully = False\n",
    "            \n",
    "                while not collected_successfully:\n",
    "                        \n",
    "                    \n",
    "                    try:\n",
    "                        \n",
    "#                     print('Collecting data')\n",
    "#                         try:\n",
    "                        driver.find_element_by_class_name('prefix__icon-close-1').click()\n",
    "#                         except ElementClickInterceptedException:\n",
    "#                             pass\n",
    "                        company_name = driver.find_element_by_class_name(\"css-1vg6q84 e1tk4kwz4\").text\n",
    "                        \n",
    "                    except:\n",
    "                        print('z')\n",
    "                     \n",
    "#                     print('Cannot print')\n",
    "                        time.sleep(5)\n",
    "                        break\n",
    "                print('a') \n",
    "                jobs.append({\n",
    "                    \"Company Name\" : company_name\n",
    "                })\n",
    "        \n",
    "        return pd.DataFrame(jobs)\n",
    "            \n",
    "            \n",
    "                    \n",
    "                    \n",
    "        \n",
    "        \n",
    "    "
   ]
  },
  {
   "cell_type": "code",
   "execution_count": 3,
   "metadata": {
    "scrolled": true
   },
   "outputs": [
    {
     "name": "stdout",
     "output_type": "stream",
     "text": [
      "Progress: 0/10\n",
      "z\n",
      "a\n"
     ]
    },
    {
     "ename": "UnboundLocalError",
     "evalue": "local variable 'company_name' referenced before assignment",
     "output_type": "error",
     "traceback": [
      "\u001b[0;31m---------------------------------------------------------------------------\u001b[0m",
      "\u001b[0;31mUnboundLocalError\u001b[0m                         Traceback (most recent call last)",
      "\u001b[0;32m<ipython-input-3-a4a95ff39c3c>\u001b[0m in \u001b[0;36m<module>\u001b[0;34m\u001b[0m\n\u001b[1;32m      1\u001b[0m \u001b[0mpath\u001b[0m \u001b[0;34m=\u001b[0m \u001b[0;34m\"/usr/bin/chromedriver\"\u001b[0m\u001b[0;34m\u001b[0m\u001b[0;34m\u001b[0m\u001b[0m\n\u001b[0;32m----> 2\u001b[0;31m \u001b[0mdf\u001b[0m \u001b[0;34m=\u001b[0m \u001b[0mget_jobs\u001b[0m\u001b[0;34m(\u001b[0m\u001b[0;34m\"data scientists\"\u001b[0m\u001b[0;34m,\u001b[0m \u001b[0;36m10\u001b[0m\u001b[0;34m,\u001b[0m \u001b[0;32mFalse\u001b[0m\u001b[0;34m,\u001b[0m \u001b[0mpath\u001b[0m\u001b[0;34m,\u001b[0m \u001b[0;36m10\u001b[0m\u001b[0;34m)\u001b[0m\u001b[0;34m\u001b[0m\u001b[0;34m\u001b[0m\u001b[0m\n\u001b[0m\u001b[1;32m      3\u001b[0m \u001b[0mdf\u001b[0m\u001b[0;34m\u001b[0m\u001b[0;34m\u001b[0m\u001b[0m\n",
      "\u001b[0;32m<ipython-input-2-d12d02ecc245>\u001b[0m in \u001b[0;36mget_jobs\u001b[0;34m(keyword, num_jobs, verbose, path, slp_time)\u001b[0m\n\u001b[1;32m     55\u001b[0m                 \u001b[0mprint\u001b[0m\u001b[0;34m(\u001b[0m\u001b[0;34m'a'\u001b[0m\u001b[0;34m)\u001b[0m\u001b[0;34m\u001b[0m\u001b[0;34m\u001b[0m\u001b[0m\n\u001b[1;32m     56\u001b[0m                 jobs.append({\n\u001b[0;32m---> 57\u001b[0;31m                     \u001b[0;34m\"Company Name\"\u001b[0m \u001b[0;34m:\u001b[0m \u001b[0mcompany_name\u001b[0m\u001b[0;34m\u001b[0m\u001b[0;34m\u001b[0m\u001b[0m\n\u001b[0m\u001b[1;32m     58\u001b[0m                 })\n\u001b[1;32m     59\u001b[0m \u001b[0;34m\u001b[0m\u001b[0m\n",
      "\u001b[0;31mUnboundLocalError\u001b[0m: local variable 'company_name' referenced before assignment"
     ]
    }
   ],
   "source": [
    "path = \"/usr/bin/chromedriver\"\n",
    "df = get_jobs(\"data scientists\", 10, False, path, 10)\n",
    "df"
   ]
  }
 ],
 "metadata": {
  "kernelspec": {
   "display_name": "Python 3",
   "language": "python",
   "name": "python3"
  },
  "language_info": {
   "codemirror_mode": {
    "name": "ipython",
    "version": 3
   },
   "file_extension": ".py",
   "mimetype": "text/x-python",
   "name": "python",
   "nbconvert_exporter": "python",
   "pygments_lexer": "ipython3",
   "version": "3.8.5"
  }
 },
 "nbformat": 4,
 "nbformat_minor": 4
}
