{
 "cells": [
  {
   "cell_type": "code",
   "execution_count": 1,
   "metadata": {},
   "outputs": [],
   "source": [
    "import pandas as pd\n",
    "import matplotlib.pyplot as plt\n",
    "import seaborn as sns"
   ]
  },
  {
   "cell_type": "code",
   "execution_count": 2,
   "metadata": {},
   "outputs": [
    {
     "data": {
      "text/html": [
       "<div>\n",
       "<style scoped>\n",
       "    .dataframe tbody tr th:only-of-type {\n",
       "        vertical-align: middle;\n",
       "    }\n",
       "\n",
       "    .dataframe tbody tr th {\n",
       "        vertical-align: top;\n",
       "    }\n",
       "\n",
       "    .dataframe thead th {\n",
       "        text-align: right;\n",
       "    }\n",
       "</style>\n",
       "<table border=\"1\" class=\"dataframe\">\n",
       "  <thead>\n",
       "    <tr style=\"text-align: right;\">\n",
       "      <th></th>\n",
       "      <th>Job Title</th>\n",
       "      <th>Salary Estimate</th>\n",
       "      <th>Job Description</th>\n",
       "      <th>Rating</th>\n",
       "      <th>Company Name</th>\n",
       "      <th>Location</th>\n",
       "      <th>Per Hour</th>\n",
       "      <th>Employee Provided</th>\n",
       "      <th>Min Salary</th>\n",
       "      <th>Max Salary</th>\n",
       "      <th>Average Salary</th>\n",
       "      <th>Python</th>\n",
       "      <th>R_studio</th>\n",
       "      <th>Spark</th>\n",
       "      <th>Excel</th>\n",
       "      <th>AWS</th>\n",
       "      <th>SQL</th>\n",
       "    </tr>\n",
       "  </thead>\n",
       "  <tbody>\n",
       "    <tr>\n",
       "      <th>0</th>\n",
       "      <td>DATA SCIENTIST-HEALTHCARE</td>\n",
       "      <td>$56K - $96K (Glassdoor est.)</td>\n",
       "      <td>The Data Scientist has a deep understanding of...</td>\n",
       "      <td>3.7</td>\n",
       "      <td>Premier Health</td>\n",
       "      <td>Dayton, OH</td>\n",
       "      <td>0</td>\n",
       "      <td>0</td>\n",
       "      <td>56</td>\n",
       "      <td>56</td>\n",
       "      <td>56.0</td>\n",
       "      <td>0</td>\n",
       "      <td>1</td>\n",
       "      <td>0</td>\n",
       "      <td>0</td>\n",
       "      <td>0</td>\n",
       "      <td>0</td>\n",
       "    </tr>\n",
       "    <tr>\n",
       "      <th>1</th>\n",
       "      <td>Principal Data Scientist</td>\n",
       "      <td>$139K - $214K (Glassdoor est.)</td>\n",
       "      <td>Working out of our Chevy Chase, MD/Washington ...</td>\n",
       "      <td>3.5</td>\n",
       "      <td>GEICO</td>\n",
       "      <td>Chevy Chase, MD</td>\n",
       "      <td>0</td>\n",
       "      <td>0</td>\n",
       "      <td>139</td>\n",
       "      <td>139</td>\n",
       "      <td>139.0</td>\n",
       "      <td>0</td>\n",
       "      <td>1</td>\n",
       "      <td>0</td>\n",
       "      <td>0</td>\n",
       "      <td>0</td>\n",
       "      <td>0</td>\n",
       "    </tr>\n",
       "    <tr>\n",
       "      <th>2</th>\n",
       "      <td>Senior Scientist</td>\n",
       "      <td>$68K - $97K (Glassdoor est.)</td>\n",
       "      <td>Position Summary:\\nThe Senior Scientist is a m...</td>\n",
       "      <td>3.5</td>\n",
       "      <td>LGC Limited</td>\n",
       "      <td>Alexandria, MN</td>\n",
       "      <td>0</td>\n",
       "      <td>0</td>\n",
       "      <td>68</td>\n",
       "      <td>68</td>\n",
       "      <td>68.0</td>\n",
       "      <td>0</td>\n",
       "      <td>1</td>\n",
       "      <td>0</td>\n",
       "      <td>0</td>\n",
       "      <td>0</td>\n",
       "      <td>0</td>\n",
       "    </tr>\n",
       "    <tr>\n",
       "      <th>3</th>\n",
       "      <td>Staff Data Scientist</td>\n",
       "      <td>$114K - $144K (Glassdoor est.)</td>\n",
       "      <td>Alteryx is searching for a Staff Data Scientis...</td>\n",
       "      <td>3.5</td>\n",
       "      <td>Alteryx, Inc.</td>\n",
       "      <td>Boston, MA</td>\n",
       "      <td>0</td>\n",
       "      <td>0</td>\n",
       "      <td>114</td>\n",
       "      <td>114</td>\n",
       "      <td>114.0</td>\n",
       "      <td>0</td>\n",
       "      <td>1</td>\n",
       "      <td>0</td>\n",
       "      <td>0</td>\n",
       "      <td>0</td>\n",
       "      <td>0</td>\n",
       "    </tr>\n",
       "    <tr>\n",
       "      <th>4</th>\n",
       "      <td>Data Scientist</td>\n",
       "      <td>$120K - $121K (Glassdoor est.)</td>\n",
       "      <td>Who Are We?\\nQinetiQ Inc. is a leading innovat...</td>\n",
       "      <td>2.5</td>\n",
       "      <td>QinetiQ Inc.</td>\n",
       "      <td>Lorton, VA</td>\n",
       "      <td>0</td>\n",
       "      <td>0</td>\n",
       "      <td>120</td>\n",
       "      <td>120</td>\n",
       "      <td>120.0</td>\n",
       "      <td>0</td>\n",
       "      <td>1</td>\n",
       "      <td>0</td>\n",
       "      <td>0</td>\n",
       "      <td>0</td>\n",
       "      <td>0</td>\n",
       "    </tr>\n",
       "  </tbody>\n",
       "</table>\n",
       "</div>"
      ],
      "text/plain": [
       "                   Job Title                 Salary Estimate  \\\n",
       "0  DATA SCIENTIST-HEALTHCARE    $56K - $96K (Glassdoor est.)   \n",
       "1   Principal Data Scientist  $139K - $214K (Glassdoor est.)   \n",
       "2           Senior Scientist    $68K - $97K (Glassdoor est.)   \n",
       "3       Staff Data Scientist  $114K - $144K (Glassdoor est.)   \n",
       "4             Data Scientist  $120K - $121K (Glassdoor est.)   \n",
       "\n",
       "                                     Job Description  Rating    Company Name  \\\n",
       "0  The Data Scientist has a deep understanding of...     3.7  Premier Health   \n",
       "1  Working out of our Chevy Chase, MD/Washington ...     3.5           GEICO   \n",
       "2  Position Summary:\\nThe Senior Scientist is a m...     3.5     LGC Limited   \n",
       "3  Alteryx is searching for a Staff Data Scientis...     3.5   Alteryx, Inc.   \n",
       "4  Who Are We?\\nQinetiQ Inc. is a leading innovat...     2.5    QinetiQ Inc.   \n",
       "\n",
       "          Location  Per Hour  Employee Provided  Min Salary  Max Salary  \\\n",
       "0       Dayton, OH         0                  0          56          56   \n",
       "1  Chevy Chase, MD         0                  0         139         139   \n",
       "2   Alexandria, MN         0                  0          68          68   \n",
       "3       Boston, MA         0                  0         114         114   \n",
       "4       Lorton, VA         0                  0         120         120   \n",
       "\n",
       "   Average Salary  Python  R_studio  Spark  Excel  AWS  SQL  \n",
       "0            56.0       0         1      0      0    0    0  \n",
       "1           139.0       0         1      0      0    0    0  \n",
       "2            68.0       0         1      0      0    0    0  \n",
       "3           114.0       0         1      0      0    0    0  \n",
       "4           120.0       0         1      0      0    0    0  "
      ]
     },
     "execution_count": 2,
     "metadata": {},
     "output_type": "execute_result"
    }
   ],
   "source": [
    "data = pd.read_csv('Cleaned_Data.csv')\n",
    "data.head()"
   ]
  },
  {
   "cell_type": "code",
   "execution_count": 3,
   "metadata": {},
   "outputs": [
    {
     "data": {
      "text/plain": [
       "Index(['Job Title', 'Salary Estimate', 'Job Description', 'Rating',\n",
       "       'Company Name', 'Location', 'Per Hour', 'Employee Provided',\n",
       "       'Min Salary', 'Max Salary', 'Average Salary', 'Python', 'R_studio',\n",
       "       'Spark', 'Excel', 'AWS', 'SQL'],\n",
       "      dtype='object')"
      ]
     },
     "execution_count": 3,
     "metadata": {},
     "output_type": "execute_result"
    }
   ],
   "source": [
    "data.columns"
   ]
  },
  {
   "cell_type": "code",
   "execution_count": 4,
   "metadata": {},
   "outputs": [],
   "source": [
    "def title_simplifier(title):\n",
    "    if 'data scientist' in title.lower() or 'scientist' in title.lower():\n",
    "        return 'Data Scientist'\n",
    "    elif 'data engineer' in title.lower():\n",
    "        return 'Data Engineer'\n",
    "    elif 'analyst' in title.lower():\n",
    "        return 'Analyst'\n",
    "    elif 'machine learning' in title.lower():\n",
    "        return 'Machine Learning'\n",
    "    elif 'director' in title.lower():\n",
    "        return 'Director'\n",
    "    elif 'manager' in title.lower():\n",
    "        return 'Manager'\n",
    "    else:\n",
    "        return 'n/a'\n",
    "    \n"
   ]
  },
  {
   "cell_type": "code",
   "execution_count": 5,
   "metadata": {},
   "outputs": [],
   "source": [
    "def seniority(title):\n",
    "    if 'sr' in title.lower() or 'senior' in title.lower() or 'principal' in title.lower() or 'lead' in title.lower():\n",
    "        return 'Senior'\n",
    "    elif 'jr' in title.lower() or 'junior' in title.lower():\n",
    "        return 'Junior'\n",
    "    else:\n",
    "        return 'n/a'"
   ]
  },
  {
   "cell_type": "code",
   "execution_count": 6,
   "metadata": {},
   "outputs": [
    {
     "data": {
      "text/plain": [
       "n/a       18\n",
       "Senior     4\n",
       "Name: Seniority, dtype: int64"
      ]
     },
     "execution_count": 6,
     "metadata": {},
     "output_type": "execute_result"
    }
   ],
   "source": [
    "data['Title'] = data['Job Title'].apply(title_simplifier)\n",
    "data['Seniority'] = data['Job Title'].apply(seniority)\n",
    "data['Seniority'].value_counts()\n"
   ]
  },
  {
   "cell_type": "code",
   "execution_count": 7,
   "metadata": {},
   "outputs": [],
   "source": [
    "data['desc_len'] = data['Job Description'].apply(lambda x: len(x))\n",
    "data['min_salary'] = data['Min Salary']\n",
    "data['max_salary'] = data['Max Salary']\n",
    "\n",
    "data['hourly'] = data['Per Hour']"
   ]
  },
  {
   "cell_type": "code",
   "execution_count": 8,
   "metadata": {},
   "outputs": [],
   "source": [
    "data['min_salary'] = data.apply(lambda x: x.min_salary*2 if x.hourly == 1 else x.min_salary, axis=1)\n",
    "data['max_salary'] = data.apply(lambda x: x.max_salary*2 if x.hourly == 1 else x.max_salary, axis=1)\n",
    "\n"
   ]
  },
  {
   "cell_type": "code",
   "execution_count": 9,
   "metadata": {},
   "outputs": [
    {
     "data": {
      "text/html": [
       "<div>\n",
       "<style scoped>\n",
       "    .dataframe tbody tr th:only-of-type {\n",
       "        vertical-align: middle;\n",
       "    }\n",
       "\n",
       "    .dataframe tbody tr th {\n",
       "        vertical-align: top;\n",
       "    }\n",
       "\n",
       "    .dataframe thead th {\n",
       "        text-align: right;\n",
       "    }\n",
       "</style>\n",
       "<table border=\"1\" class=\"dataframe\">\n",
       "  <thead>\n",
       "    <tr style=\"text-align: right;\">\n",
       "      <th></th>\n",
       "      <th>hourly</th>\n",
       "      <th>min_salary</th>\n",
       "      <th>max_salary</th>\n",
       "    </tr>\n",
       "  </thead>\n",
       "  <tbody>\n",
       "    <tr>\n",
       "      <th>9</th>\n",
       "      <td>1</td>\n",
       "      <td>48</td>\n",
       "      <td>48</td>\n",
       "    </tr>\n",
       "    <tr>\n",
       "      <th>18</th>\n",
       "      <td>1</td>\n",
       "      <td>34</td>\n",
       "      <td>34</td>\n",
       "    </tr>\n",
       "  </tbody>\n",
       "</table>\n",
       "</div>"
      ],
      "text/plain": [
       "    hourly  min_salary  max_salary\n",
       "9        1          48          48\n",
       "18       1          34          34"
      ]
     },
     "execution_count": 9,
     "metadata": {},
     "output_type": "execute_result"
    }
   ],
   "source": [
    "data[data.hourly==1][['hourly', 'min_salary', 'max_salary']]"
   ]
  },
  {
   "cell_type": "code",
   "execution_count": 10,
   "metadata": {},
   "outputs": [
    {
     "data": {
      "text/html": [
       "<div>\n",
       "<style scoped>\n",
       "    .dataframe tbody tr th:only-of-type {\n",
       "        vertical-align: middle;\n",
       "    }\n",
       "\n",
       "    .dataframe tbody tr th {\n",
       "        vertical-align: top;\n",
       "    }\n",
       "\n",
       "    .dataframe thead th {\n",
       "        text-align: right;\n",
       "    }\n",
       "</style>\n",
       "<table border=\"1\" class=\"dataframe\">\n",
       "  <thead>\n",
       "    <tr style=\"text-align: right;\">\n",
       "      <th></th>\n",
       "      <th>Rating</th>\n",
       "      <th>Per Hour</th>\n",
       "      <th>Employee Provided</th>\n",
       "      <th>Min Salary</th>\n",
       "      <th>Max Salary</th>\n",
       "      <th>Average Salary</th>\n",
       "      <th>Python</th>\n",
       "      <th>R_studio</th>\n",
       "      <th>Spark</th>\n",
       "      <th>Excel</th>\n",
       "      <th>AWS</th>\n",
       "      <th>SQL</th>\n",
       "      <th>desc_len</th>\n",
       "      <th>min_salary</th>\n",
       "      <th>max_salary</th>\n",
       "      <th>hourly</th>\n",
       "    </tr>\n",
       "  </thead>\n",
       "  <tbody>\n",
       "    <tr>\n",
       "      <th>count</th>\n",
       "      <td>22.000000</td>\n",
       "      <td>22.000000</td>\n",
       "      <td>22.0</td>\n",
       "      <td>22.000000</td>\n",
       "      <td>22.000000</td>\n",
       "      <td>22.000000</td>\n",
       "      <td>22.000000</td>\n",
       "      <td>22.0</td>\n",
       "      <td>22.0</td>\n",
       "      <td>22.000000</td>\n",
       "      <td>22.0</td>\n",
       "      <td>22.000000</td>\n",
       "      <td>22.000000</td>\n",
       "      <td>22.000000</td>\n",
       "      <td>22.000000</td>\n",
       "      <td>22.000000</td>\n",
       "    </tr>\n",
       "    <tr>\n",
       "      <th>mean</th>\n",
       "      <td>3.368182</td>\n",
       "      <td>0.090909</td>\n",
       "      <td>0.0</td>\n",
       "      <td>68.045455</td>\n",
       "      <td>68.045455</td>\n",
       "      <td>68.045455</td>\n",
       "      <td>0.045455</td>\n",
       "      <td>1.0</td>\n",
       "      <td>0.0</td>\n",
       "      <td>0.136364</td>\n",
       "      <td>0.0</td>\n",
       "      <td>0.045455</td>\n",
       "      <td>1109.545455</td>\n",
       "      <td>69.909091</td>\n",
       "      <td>69.909091</td>\n",
       "      <td>0.090909</td>\n",
       "    </tr>\n",
       "    <tr>\n",
       "      <th>std</th>\n",
       "      <td>1.142006</td>\n",
       "      <td>0.294245</td>\n",
       "      <td>0.0</td>\n",
       "      <td>30.973840</td>\n",
       "      <td>30.973840</td>\n",
       "      <td>30.973840</td>\n",
       "      <td>0.213201</td>\n",
       "      <td>0.0</td>\n",
       "      <td>0.0</td>\n",
       "      <td>0.351250</td>\n",
       "      <td>0.0</td>\n",
       "      <td>0.213201</td>\n",
       "      <td>770.379605</td>\n",
       "      <td>28.523856</td>\n",
       "      <td>28.523856</td>\n",
       "      <td>0.294245</td>\n",
       "    </tr>\n",
       "    <tr>\n",
       "      <th>min</th>\n",
       "      <td>-1.000000</td>\n",
       "      <td>0.000000</td>\n",
       "      <td>0.0</td>\n",
       "      <td>17.000000</td>\n",
       "      <td>17.000000</td>\n",
       "      <td>17.000000</td>\n",
       "      <td>0.000000</td>\n",
       "      <td>1.0</td>\n",
       "      <td>0.0</td>\n",
       "      <td>0.000000</td>\n",
       "      <td>0.0</td>\n",
       "      <td>0.000000</td>\n",
       "      <td>2.000000</td>\n",
       "      <td>34.000000</td>\n",
       "      <td>34.000000</td>\n",
       "      <td>0.000000</td>\n",
       "    </tr>\n",
       "    <tr>\n",
       "      <th>25%</th>\n",
       "      <td>3.425000</td>\n",
       "      <td>0.000000</td>\n",
       "      <td>0.0</td>\n",
       "      <td>45.750000</td>\n",
       "      <td>45.750000</td>\n",
       "      <td>45.750000</td>\n",
       "      <td>0.000000</td>\n",
       "      <td>1.0</td>\n",
       "      <td>0.0</td>\n",
       "      <td>0.000000</td>\n",
       "      <td>0.0</td>\n",
       "      <td>0.000000</td>\n",
       "      <td>728.250000</td>\n",
       "      <td>48.750000</td>\n",
       "      <td>48.750000</td>\n",
       "      <td>0.000000</td>\n",
       "    </tr>\n",
       "    <tr>\n",
       "      <th>50%</th>\n",
       "      <td>3.500000</td>\n",
       "      <td>0.000000</td>\n",
       "      <td>0.0</td>\n",
       "      <td>64.500000</td>\n",
       "      <td>64.500000</td>\n",
       "      <td>64.500000</td>\n",
       "      <td>0.000000</td>\n",
       "      <td>1.0</td>\n",
       "      <td>0.0</td>\n",
       "      <td>0.000000</td>\n",
       "      <td>0.0</td>\n",
       "      <td>0.000000</td>\n",
       "      <td>941.000000</td>\n",
       "      <td>64.500000</td>\n",
       "      <td>64.500000</td>\n",
       "      <td>0.000000</td>\n",
       "    </tr>\n",
       "    <tr>\n",
       "      <th>75%</th>\n",
       "      <td>3.800000</td>\n",
       "      <td>0.000000</td>\n",
       "      <td>0.0</td>\n",
       "      <td>80.500000</td>\n",
       "      <td>80.500000</td>\n",
       "      <td>80.500000</td>\n",
       "      <td>0.000000</td>\n",
       "      <td>1.0</td>\n",
       "      <td>0.0</td>\n",
       "      <td>0.000000</td>\n",
       "      <td>0.0</td>\n",
       "      <td>0.000000</td>\n",
       "      <td>1224.500000</td>\n",
       "      <td>80.500000</td>\n",
       "      <td>80.500000</td>\n",
       "      <td>0.000000</td>\n",
       "    </tr>\n",
       "    <tr>\n",
       "      <th>max</th>\n",
       "      <td>4.700000</td>\n",
       "      <td>1.000000</td>\n",
       "      <td>0.0</td>\n",
       "      <td>139.000000</td>\n",
       "      <td>139.000000</td>\n",
       "      <td>139.000000</td>\n",
       "      <td>1.000000</td>\n",
       "      <td>1.0</td>\n",
       "      <td>0.0</td>\n",
       "      <td>1.000000</td>\n",
       "      <td>0.0</td>\n",
       "      <td>1.000000</td>\n",
       "      <td>3503.000000</td>\n",
       "      <td>139.000000</td>\n",
       "      <td>139.000000</td>\n",
       "      <td>1.000000</td>\n",
       "    </tr>\n",
       "  </tbody>\n",
       "</table>\n",
       "</div>"
      ],
      "text/plain": [
       "          Rating   Per Hour  Employee Provided  Min Salary  Max Salary  \\\n",
       "count  22.000000  22.000000               22.0   22.000000   22.000000   \n",
       "mean    3.368182   0.090909                0.0   68.045455   68.045455   \n",
       "std     1.142006   0.294245                0.0   30.973840   30.973840   \n",
       "min    -1.000000   0.000000                0.0   17.000000   17.000000   \n",
       "25%     3.425000   0.000000                0.0   45.750000   45.750000   \n",
       "50%     3.500000   0.000000                0.0   64.500000   64.500000   \n",
       "75%     3.800000   0.000000                0.0   80.500000   80.500000   \n",
       "max     4.700000   1.000000                0.0  139.000000  139.000000   \n",
       "\n",
       "       Average Salary     Python  R_studio  Spark      Excel   AWS        SQL  \\\n",
       "count       22.000000  22.000000      22.0   22.0  22.000000  22.0  22.000000   \n",
       "mean        68.045455   0.045455       1.0    0.0   0.136364   0.0   0.045455   \n",
       "std         30.973840   0.213201       0.0    0.0   0.351250   0.0   0.213201   \n",
       "min         17.000000   0.000000       1.0    0.0   0.000000   0.0   0.000000   \n",
       "25%         45.750000   0.000000       1.0    0.0   0.000000   0.0   0.000000   \n",
       "50%         64.500000   0.000000       1.0    0.0   0.000000   0.0   0.000000   \n",
       "75%         80.500000   0.000000       1.0    0.0   0.000000   0.0   0.000000   \n",
       "max        139.000000   1.000000       1.0    0.0   1.000000   0.0   1.000000   \n",
       "\n",
       "          desc_len  min_salary  max_salary     hourly  \n",
       "count    22.000000   22.000000   22.000000  22.000000  \n",
       "mean   1109.545455   69.909091   69.909091   0.090909  \n",
       "std     770.379605   28.523856   28.523856   0.294245  \n",
       "min       2.000000   34.000000   34.000000   0.000000  \n",
       "25%     728.250000   48.750000   48.750000   0.000000  \n",
       "50%     941.000000   64.500000   64.500000   0.000000  \n",
       "75%    1224.500000   80.500000   80.500000   0.000000  \n",
       "max    3503.000000  139.000000  139.000000   1.000000  "
      ]
     },
     "execution_count": 10,
     "metadata": {},
     "output_type": "execute_result"
    }
   ],
   "source": [
    "data.describe()"
   ]
  },
  {
   "cell_type": "code",
   "execution_count": 11,
   "metadata": {},
   "outputs": [
    {
     "data": {
      "text/plain": [
       "Index(['Job Title', 'Salary Estimate', 'Job Description', 'Rating',\n",
       "       'Company Name', 'Location', 'Per Hour', 'Employee Provided',\n",
       "       'Min Salary', 'Max Salary', 'Average Salary', 'Python', 'R_studio',\n",
       "       'Spark', 'Excel', 'AWS', 'SQL', 'Title', 'Seniority', 'desc_len',\n",
       "       'min_salary', 'max_salary', 'hourly'],\n",
       "      dtype='object')"
      ]
     },
     "execution_count": 11,
     "metadata": {},
     "output_type": "execute_result"
    }
   ],
   "source": [
    "data.columns"
   ]
  },
  {
   "cell_type": "code",
   "execution_count": 12,
   "metadata": {},
   "outputs": [
    {
     "data": {
      "text/plain": [
       "<AxesSubplot:>"
      ]
     },
     "execution_count": 12,
     "metadata": {},
     "output_type": "execute_result"
    },
    {
     "data": {
      "image/png": "[encoded data removed]",
      "text/plain": [
       "<Figure size 432x288 with 1 Axes>"
      ]
     },
     "metadata": {
      "needs_background": "light"
     },
     "output_type": "display_data"
    }
   ],
   "source": [
    "data['Rating'].hist()"
   ]
  },
  {
   "cell_type": "code",
   "execution_count": 13,
   "metadata": {},
   "outputs": [
    {
     "data": {
      "text/plain": [
       "<AxesSubplot:>"
      ]
     },
     "execution_count": 13,
     "metadata": {},
     "output_type": "execute_result"
    },
    {
     "data": {
      "image/png": "[encoded data removed]",
      "text/plain": [
       "<Figure size 432x288 with 1 Axes>"
      ]
     },
     "metadata": {
      "needs_background": "light"
     },
     "output_type": "display_data"
    }
   ],
   "source": [
    "# data['avg_salary'].hist()\n",
    "data['avg_salary'] = data['Average Salary']\n",
    "data['avg_salary'].hist()"
   ]
  },
  {
   "cell_type": "code",
   "execution_count": 14,
   "metadata": {},
   "outputs": [
    {
     "data": {
      "text/plain": [
       "<AxesSubplot:>"
      ]
     },
     "execution_count": 14,
     "metadata": {},
     "output_type": "execute_result"
    },
    {
     "data": {
      "image/png": "[encoded data removed]",
      "text/plain": [
       "<Figure size 432x288 with 1 Axes>"
      ]
     },
     "metadata": {
      "needs_background": "light"
     },
     "output_type": "display_data"
    }
   ],
   "source": [
    "data['desc_len'].hist()"
   ]
  },
  {
   "cell_type": "code",
   "execution_count": 15,
   "metadata": {},
   "outputs": [
    {
     "data": {
      "text/plain": [
       "<AxesSubplot:>"
      ]
     },
     "execution_count": 15,
     "metadata": {},
     "output_type": "execute_result"
    },
    {
     "data": {
      "image/png": "[encoded data removed]",
      "text/plain": [
       "<Figure size 432x288 with 1 Axes>"
      ]
     },
     "metadata": {
      "needs_background": "light"
     },
     "output_type": "display_data"
    }
   ],
   "source": [
    "data.boxplot(column=['avg_salary','Rating'])"
   ]
  },
  {
   "cell_type": "code",
   "execution_count": 16,
   "metadata": {},
   "outputs": [
    {
     "data": {
      "text/html": [
       "<div>\n",
       "<style scoped>\n",
       "    .dataframe tbody tr th:only-of-type {\n",
       "        vertical-align: middle;\n",
       "    }\n",
       "\n",
       "    .dataframe tbody tr th {\n",
       "        vertical-align: top;\n",
       "    }\n",
       "\n",
       "    .dataframe thead th {\n",
       "        text-align: right;\n",
       "    }\n",
       "</style>\n",
       "<table border=\"1\" class=\"dataframe\">\n",
       "  <thead>\n",
       "    <tr style=\"text-align: right;\">\n",
       "      <th></th>\n",
       "      <th>avg_salary</th>\n",
       "      <th>Rating</th>\n",
       "      <th>min_salary</th>\n",
       "      <th>max_salary</th>\n",
       "    </tr>\n",
       "  </thead>\n",
       "  <tbody>\n",
       "    <tr>\n",
       "      <th>avg_salary</th>\n",
       "      <td>1.000000</td>\n",
       "      <td>0.082970</td>\n",
       "      <td>0.982145</td>\n",
       "      <td>0.982145</td>\n",
       "    </tr>\n",
       "    <tr>\n",
       "      <th>Rating</th>\n",
       "      <td>0.082970</td>\n",
       "      <td>1.000000</td>\n",
       "      <td>0.071245</td>\n",
       "      <td>0.071245</td>\n",
       "    </tr>\n",
       "    <tr>\n",
       "      <th>min_salary</th>\n",
       "      <td>0.982145</td>\n",
       "      <td>0.071245</td>\n",
       "      <td>1.000000</td>\n",
       "      <td>1.000000</td>\n",
       "    </tr>\n",
       "    <tr>\n",
       "      <th>max_salary</th>\n",
       "      <td>0.982145</td>\n",
       "      <td>0.071245</td>\n",
       "      <td>1.000000</td>\n",
       "      <td>1.000000</td>\n",
       "    </tr>\n",
       "  </tbody>\n",
       "</table>\n",
       "</div>"
      ],
      "text/plain": [
       "            avg_salary    Rating  min_salary  max_salary\n",
       "avg_salary    1.000000  0.082970    0.982145    0.982145\n",
       "Rating        0.082970  1.000000    0.071245    0.071245\n",
       "min_salary    0.982145  0.071245    1.000000    1.000000\n",
       "max_salary    0.982145  0.071245    1.000000    1.000000"
      ]
     },
     "execution_count": 16,
     "metadata": {},
     "output_type": "execute_result"
    }
   ],
   "source": [
    "data[['avg_salary','Rating','min_salary','max_salary']].corr()"
   ]
  },
  {
   "cell_type": "code",
   "execution_count": 17,
   "metadata": {},
   "outputs": [
    {
     "data": {
      "text/html": [
       "<div>\n",
       "<style scoped>\n",
       "    .dataframe tbody tr th:only-of-type {\n",
       "        vertical-align: middle;\n",
       "    }\n",
       "\n",
       "    .dataframe tbody tr th {\n",
       "        vertical-align: top;\n",
       "    }\n",
       "\n",
       "    .dataframe thead th {\n",
       "        text-align: right;\n",
       "    }\n",
       "</style>\n",
       "<table border=\"1\" class=\"dataframe\">\n",
       "  <thead>\n",
       "    <tr style=\"text-align: right;\">\n",
       "      <th></th>\n",
       "      <th>Job Title</th>\n",
       "      <th>Salary Estimate</th>\n",
       "      <th>Job Description</th>\n",
       "      <th>Rating</th>\n",
       "      <th>Company Name</th>\n",
       "      <th>Location</th>\n",
       "      <th>Per Hour</th>\n",
       "      <th>Employee Provided</th>\n",
       "      <th>Min Salary</th>\n",
       "      <th>Max Salary</th>\n",
       "      <th>...</th>\n",
       "      <th>Excel</th>\n",
       "      <th>AWS</th>\n",
       "      <th>SQL</th>\n",
       "      <th>Title</th>\n",
       "      <th>Seniority</th>\n",
       "      <th>desc_len</th>\n",
       "      <th>min_salary</th>\n",
       "      <th>max_salary</th>\n",
       "      <th>hourly</th>\n",
       "      <th>avg_salary</th>\n",
       "    </tr>\n",
       "  </thead>\n",
       "  <tbody>\n",
       "    <tr>\n",
       "      <th>0</th>\n",
       "      <td>DATA SCIENTIST-HEALTHCARE</td>\n",
       "      <td>$56K - $96K (Glassdoor est.)</td>\n",
       "      <td>The Data Scientist has a deep understanding of...</td>\n",
       "      <td>3.7</td>\n",
       "      <td>Premier Health</td>\n",
       "      <td>Dayton, OH</td>\n",
       "      <td>0</td>\n",
       "      <td>0</td>\n",
       "      <td>56</td>\n",
       "      <td>56</td>\n",
       "      <td>...</td>\n",
       "      <td>0</td>\n",
       "      <td>0</td>\n",
       "      <td>0</td>\n",
       "      <td>Data Scientist</td>\n",
       "      <td>n/a</td>\n",
       "      <td>438</td>\n",
       "      <td>56</td>\n",
       "      <td>56</td>\n",
       "      <td>0</td>\n",
       "      <td>56.0</td>\n",
       "    </tr>\n",
       "  </tbody>\n",
       "</table>\n",
       "<p>1 rows × 24 columns</p>\n",
       "</div>"
      ],
      "text/plain": [
       "                   Job Title               Salary Estimate  \\\n",
       "0  DATA SCIENTIST-HEALTHCARE  $56K - $96K (Glassdoor est.)   \n",
       "\n",
       "                                     Job Description  Rating    Company Name  \\\n",
       "0  The Data Scientist has a deep understanding of...     3.7  Premier Health   \n",
       "\n",
       "     Location  Per Hour  Employee Provided  Min Salary  Max Salary  ...  \\\n",
       "0  Dayton, OH         0                  0          56          56  ...   \n",
       "\n",
       "   Excel  AWS  SQL           Title  Seniority  desc_len  min_salary  \\\n",
       "0      0    0    0  Data Scientist        n/a       438          56   \n",
       "\n",
       "  max_salary hourly  avg_salary  \n",
       "0         56      0        56.0  \n",
       "\n",
       "[1 rows x 24 columns]"
      ]
     },
     "execution_count": 17,
     "metadata": {},
     "output_type": "execute_result"
    }
   ],
   "source": [
    "data.head(1)"
   ]
  },
  {
   "cell_type": "code",
   "execution_count": 18,
   "metadata": {},
   "outputs": [
    {
     "data": {
      "text/html": [
       "<div>\n",
       "<style scoped>\n",
       "    .dataframe tbody tr th:only-of-type {\n",
       "        vertical-align: middle;\n",
       "    }\n",
       "\n",
       "    .dataframe tbody tr th {\n",
       "        vertical-align: top;\n",
       "    }\n",
       "\n",
       "    .dataframe thead th {\n",
       "        text-align: right;\n",
       "    }\n",
       "</style>\n",
       "<table border=\"1\" class=\"dataframe\">\n",
       "  <thead>\n",
       "    <tr style=\"text-align: right;\">\n",
       "      <th></th>\n",
       "      <th>Title</th>\n",
       "      <th>Rating</th>\n",
       "      <th>Company Name</th>\n",
       "      <th>Location</th>\n",
       "      <th>Employee Provided</th>\n",
       "      <th>Excel</th>\n",
       "      <th>AWS</th>\n",
       "      <th>SQL</th>\n",
       "      <th>Seniority</th>\n",
       "      <th>desc_len</th>\n",
       "      <th>min_salary</th>\n",
       "      <th>max_salary</th>\n",
       "      <th>avg_salary</th>\n",
       "      <th>hourly</th>\n",
       "    </tr>\n",
       "  </thead>\n",
       "  <tbody>\n",
       "    <tr>\n",
       "      <th>0</th>\n",
       "      <td>Data Scientist</td>\n",
       "      <td>3.7</td>\n",
       "      <td>Premier Health</td>\n",
       "      <td>Dayton, OH</td>\n",
       "      <td>0</td>\n",
       "      <td>0</td>\n",
       "      <td>0</td>\n",
       "      <td>0</td>\n",
       "      <td>n/a</td>\n",
       "      <td>438</td>\n",
       "      <td>56</td>\n",
       "      <td>56</td>\n",
       "      <td>56.0</td>\n",
       "      <td>0</td>\n",
       "    </tr>\n",
       "    <tr>\n",
       "      <th>1</th>\n",
       "      <td>Data Scientist</td>\n",
       "      <td>3.5</td>\n",
       "      <td>GEICO</td>\n",
       "      <td>Chevy Chase, MD</td>\n",
       "      <td>0</td>\n",
       "      <td>0</td>\n",
       "      <td>0</td>\n",
       "      <td>0</td>\n",
       "      <td>Senior</td>\n",
       "      <td>972</td>\n",
       "      <td>139</td>\n",
       "      <td>139</td>\n",
       "      <td>139.0</td>\n",
       "      <td>0</td>\n",
       "    </tr>\n",
       "    <tr>\n",
       "      <th>2</th>\n",
       "      <td>Data Scientist</td>\n",
       "      <td>3.5</td>\n",
       "      <td>LGC Limited</td>\n",
       "      <td>Alexandria, MN</td>\n",
       "      <td>0</td>\n",
       "      <td>0</td>\n",
       "      <td>0</td>\n",
       "      <td>0</td>\n",
       "      <td>Senior</td>\n",
       "      <td>975</td>\n",
       "      <td>68</td>\n",
       "      <td>68</td>\n",
       "      <td>68.0</td>\n",
       "      <td>0</td>\n",
       "    </tr>\n",
       "    <tr>\n",
       "      <th>3</th>\n",
       "      <td>Data Scientist</td>\n",
       "      <td>3.5</td>\n",
       "      <td>Alteryx, Inc.</td>\n",
       "      <td>Boston, MA</td>\n",
       "      <td>0</td>\n",
       "      <td>0</td>\n",
       "      <td>0</td>\n",
       "      <td>0</td>\n",
       "      <td>n/a</td>\n",
       "      <td>1243</td>\n",
       "      <td>114</td>\n",
       "      <td>114</td>\n",
       "      <td>114.0</td>\n",
       "      <td>0</td>\n",
       "    </tr>\n",
       "    <tr>\n",
       "      <th>4</th>\n",
       "      <td>Data Scientist</td>\n",
       "      <td>2.5</td>\n",
       "      <td>QinetiQ Inc.</td>\n",
       "      <td>Lorton, VA</td>\n",
       "      <td>0</td>\n",
       "      <td>0</td>\n",
       "      <td>0</td>\n",
       "      <td>0</td>\n",
       "      <td>n/a</td>\n",
       "      <td>1084</td>\n",
       "      <td>120</td>\n",
       "      <td>120</td>\n",
       "      <td>120.0</td>\n",
       "      <td>0</td>\n",
       "    </tr>\n",
       "    <tr>\n",
       "      <th>5</th>\n",
       "      <td>Data Scientist</td>\n",
       "      <td>3.4</td>\n",
       "      <td>Laticrete International</td>\n",
       "      <td>Bethany, CT</td>\n",
       "      <td>0</td>\n",
       "      <td>0</td>\n",
       "      <td>0</td>\n",
       "      <td>0</td>\n",
       "      <td>Senior</td>\n",
       "      <td>549</td>\n",
       "      <td>75</td>\n",
       "      <td>75</td>\n",
       "      <td>75.0</td>\n",
       "      <td>0</td>\n",
       "    </tr>\n",
       "    <tr>\n",
       "      <th>6</th>\n",
       "      <td>Data Scientist</td>\n",
       "      <td>3.1</td>\n",
       "      <td>INFICON, Inc.</td>\n",
       "      <td>East Syracuse, NY</td>\n",
       "      <td>0</td>\n",
       "      <td>0</td>\n",
       "      <td>0</td>\n",
       "      <td>0</td>\n",
       "      <td>n/a</td>\n",
       "      <td>944</td>\n",
       "      <td>51</td>\n",
       "      <td>51</td>\n",
       "      <td>51.0</td>\n",
       "      <td>0</td>\n",
       "    </tr>\n",
       "    <tr>\n",
       "      <th>7</th>\n",
       "      <td>Data Scientist</td>\n",
       "      <td>3.5</td>\n",
       "      <td>LGC Limited</td>\n",
       "      <td>Middleton, WI</td>\n",
       "      <td>0</td>\n",
       "      <td>0</td>\n",
       "      <td>0</td>\n",
       "      <td>0</td>\n",
       "      <td>n/a</td>\n",
       "      <td>717</td>\n",
       "      <td>62</td>\n",
       "      <td>62</td>\n",
       "      <td>62.0</td>\n",
       "      <td>0</td>\n",
       "    </tr>\n",
       "    <tr>\n",
       "      <th>8</th>\n",
       "      <td>Data Scientist</td>\n",
       "      <td>3.5</td>\n",
       "      <td>LGC Limited</td>\n",
       "      <td>Middleton, WI</td>\n",
       "      <td>0</td>\n",
       "      <td>0</td>\n",
       "      <td>0</td>\n",
       "      <td>0</td>\n",
       "      <td>Senior</td>\n",
       "      <td>938</td>\n",
       "      <td>98</td>\n",
       "      <td>98</td>\n",
       "      <td>98.0</td>\n",
       "      <td>0</td>\n",
       "    </tr>\n",
       "    <tr>\n",
       "      <th>9</th>\n",
       "      <td>Data Scientist</td>\n",
       "      <td>3.8</td>\n",
       "      <td>White Plains Hospital</td>\n",
       "      <td>White Plains, NY</td>\n",
       "      <td>0</td>\n",
       "      <td>0</td>\n",
       "      <td>0</td>\n",
       "      <td>0</td>\n",
       "      <td>n/a</td>\n",
       "      <td>479</td>\n",
       "      <td>48</td>\n",
       "      <td>48</td>\n",
       "      <td>24.0</td>\n",
       "      <td>1</td>\n",
       "    </tr>\n",
       "    <tr>\n",
       "      <th>10</th>\n",
       "      <td>Data Engineer</td>\n",
       "      <td>3.8</td>\n",
       "      <td>America First Credit Union</td>\n",
       "      <td>Ogden, UT</td>\n",
       "      <td>0</td>\n",
       "      <td>0</td>\n",
       "      <td>0</td>\n",
       "      <td>0</td>\n",
       "      <td>n/a</td>\n",
       "      <td>898</td>\n",
       "      <td>44</td>\n",
       "      <td>44</td>\n",
       "      <td>44.0</td>\n",
       "      <td>0</td>\n",
       "    </tr>\n",
       "    <tr>\n",
       "      <th>11</th>\n",
       "      <td>Data Scientist</td>\n",
       "      <td>4.7</td>\n",
       "      <td>Johns Hopkins Applied Physics Laboratory (APL)</td>\n",
       "      <td>Laurel, MD</td>\n",
       "      <td>0</td>\n",
       "      <td>0</td>\n",
       "      <td>0</td>\n",
       "      <td>0</td>\n",
       "      <td>n/a</td>\n",
       "      <td>2386</td>\n",
       "      <td>79</td>\n",
       "      <td>79</td>\n",
       "      <td>79.0</td>\n",
       "      <td>0</td>\n",
       "    </tr>\n",
       "    <tr>\n",
       "      <th>12</th>\n",
       "      <td>Data Scientist</td>\n",
       "      <td>3.5</td>\n",
       "      <td>Catalent Pharma Solutions</td>\n",
       "      <td>Winchester, KY</td>\n",
       "      <td>0</td>\n",
       "      <td>0</td>\n",
       "      <td>0</td>\n",
       "      <td>0</td>\n",
       "      <td>n/a</td>\n",
       "      <td>1440</td>\n",
       "      <td>38</td>\n",
       "      <td>38</td>\n",
       "      <td>38.0</td>\n",
       "      <td>0</td>\n",
       "    </tr>\n",
       "    <tr>\n",
       "      <th>13</th>\n",
       "      <td>n/a</td>\n",
       "      <td>-1.0</td>\n",
       "      <td>-1</td>\n",
       "      <td>-1</td>\n",
       "      <td>0</td>\n",
       "      <td>0</td>\n",
       "      <td>0</td>\n",
       "      <td>0</td>\n",
       "      <td>n/a</td>\n",
       "      <td>2</td>\n",
       "      <td>61</td>\n",
       "      <td>61</td>\n",
       "      <td>61.0</td>\n",
       "      <td>0</td>\n",
       "    </tr>\n",
       "    <tr>\n",
       "      <th>14</th>\n",
       "      <td>Data Scientist</td>\n",
       "      <td>3.6</td>\n",
       "      <td>Nova Biomedical</td>\n",
       "      <td>Billerica, MA</td>\n",
       "      <td>0</td>\n",
       "      <td>0</td>\n",
       "      <td>0</td>\n",
       "      <td>0</td>\n",
       "      <td>n/a</td>\n",
       "      <td>762</td>\n",
       "      <td>35</td>\n",
       "      <td>35</td>\n",
       "      <td>35.0</td>\n",
       "      <td>0</td>\n",
       "    </tr>\n",
       "    <tr>\n",
       "      <th>15</th>\n",
       "      <td>Data Engineer</td>\n",
       "      <td>4.5</td>\n",
       "      <td>Idaho Central Credit Union</td>\n",
       "      <td>Chubbuck, ID</td>\n",
       "      <td>0</td>\n",
       "      <td>0</td>\n",
       "      <td>0</td>\n",
       "      <td>0</td>\n",
       "      <td>n/a</td>\n",
       "      <td>808</td>\n",
       "      <td>61</td>\n",
       "      <td>61</td>\n",
       "      <td>61.0</td>\n",
       "      <td>0</td>\n",
       "    </tr>\n",
       "    <tr>\n",
       "      <th>16</th>\n",
       "      <td>Data Scientist</td>\n",
       "      <td>3.8</td>\n",
       "      <td>BioFire Diagnostics, LLC.</td>\n",
       "      <td>Salt Lake City, UT</td>\n",
       "      <td>0</td>\n",
       "      <td>0</td>\n",
       "      <td>0</td>\n",
       "      <td>0</td>\n",
       "      <td>n/a</td>\n",
       "      <td>842</td>\n",
       "      <td>91</td>\n",
       "      <td>91</td>\n",
       "      <td>91.0</td>\n",
       "      <td>0</td>\n",
       "    </tr>\n",
       "    <tr>\n",
       "      <th>17</th>\n",
       "      <td>Data Scientist</td>\n",
       "      <td>3.8</td>\n",
       "      <td>BioFire Diagnostics, LLC.</td>\n",
       "      <td>Salt Lake City, UT</td>\n",
       "      <td>0</td>\n",
       "      <td>1</td>\n",
       "      <td>0</td>\n",
       "      <td>0</td>\n",
       "      <td>n/a</td>\n",
       "      <td>1169</td>\n",
       "      <td>67</td>\n",
       "      <td>67</td>\n",
       "      <td>67.0</td>\n",
       "      <td>0</td>\n",
       "    </tr>\n",
       "    <tr>\n",
       "      <th>18</th>\n",
       "      <td>Data Scientist</td>\n",
       "      <td>2.0</td>\n",
       "      <td>MedLogic Laboratories</td>\n",
       "      <td>Baton Rouge, LA</td>\n",
       "      <td>0</td>\n",
       "      <td>0</td>\n",
       "      <td>0</td>\n",
       "      <td>0</td>\n",
       "      <td>n/a</td>\n",
       "      <td>488</td>\n",
       "      <td>34</td>\n",
       "      <td>34</td>\n",
       "      <td>17.0</td>\n",
       "      <td>1</td>\n",
       "    </tr>\n",
       "    <tr>\n",
       "      <th>19</th>\n",
       "      <td>Data Engineer</td>\n",
       "      <td>3.3</td>\n",
       "      <td>NFI Industries</td>\n",
       "      <td>Camden, NJ</td>\n",
       "      <td>0</td>\n",
       "      <td>1</td>\n",
       "      <td>0</td>\n",
       "      <td>1</td>\n",
       "      <td>n/a</td>\n",
       "      <td>3503</td>\n",
       "      <td>76</td>\n",
       "      <td>76</td>\n",
       "      <td>76.0</td>\n",
       "      <td>0</td>\n",
       "    </tr>\n",
       "    <tr>\n",
       "      <th>20</th>\n",
       "      <td>n/a</td>\n",
       "      <td>4.6</td>\n",
       "      <td>SEI</td>\n",
       "      <td>Cincinnati, OH</td>\n",
       "      <td>0</td>\n",
       "      <td>1</td>\n",
       "      <td>0</td>\n",
       "      <td>0</td>\n",
       "      <td>n/a</td>\n",
       "      <td>2342</td>\n",
       "      <td>81</td>\n",
       "      <td>81</td>\n",
       "      <td>81.0</td>\n",
       "      <td>0</td>\n",
       "    </tr>\n",
       "    <tr>\n",
       "      <th>21</th>\n",
       "      <td>Data Scientist</td>\n",
       "      <td>3.5</td>\n",
       "      <td>Catalent Pharma Solutions</td>\n",
       "      <td>Winchester, KY</td>\n",
       "      <td>0</td>\n",
       "      <td>0</td>\n",
       "      <td>0</td>\n",
       "      <td>0</td>\n",
       "      <td>n/a</td>\n",
       "      <td>1431</td>\n",
       "      <td>40</td>\n",
       "      <td>40</td>\n",
       "      <td>40.0</td>\n",
       "      <td>0</td>\n",
       "    </tr>\n",
       "  </tbody>\n",
       "</table>\n",
       "</div>"
      ],
      "text/plain": [
       "             Title  Rating                                    Company Name  \\\n",
       "0   Data Scientist     3.7                                  Premier Health   \n",
       "1   Data Scientist     3.5                                           GEICO   \n",
       "2   Data Scientist     3.5                                     LGC Limited   \n",
       "3   Data Scientist     3.5                                   Alteryx, Inc.   \n",
       "4   Data Scientist     2.5                                    QinetiQ Inc.   \n",
       "5   Data Scientist     3.4                         Laticrete International   \n",
       "6   Data Scientist     3.1                                   INFICON, Inc.   \n",
       "7   Data Scientist     3.5                                     LGC Limited   \n",
       "8   Data Scientist     3.5                                     LGC Limited   \n",
       "9   Data Scientist     3.8                           White Plains Hospital   \n",
       "10   Data Engineer     3.8                      America First Credit Union   \n",
       "11  Data Scientist     4.7  Johns Hopkins Applied Physics Laboratory (APL)   \n",
       "12  Data Scientist     3.5                       Catalent Pharma Solutions   \n",
       "13             n/a    -1.0                                              -1   \n",
       "14  Data Scientist     3.6                                 Nova Biomedical   \n",
       "15   Data Engineer     4.5                      Idaho Central Credit Union   \n",
       "16  Data Scientist     3.8                       BioFire Diagnostics, LLC.   \n",
       "17  Data Scientist     3.8                       BioFire Diagnostics, LLC.   \n",
       "18  Data Scientist     2.0                           MedLogic Laboratories   \n",
       "19   Data Engineer     3.3                                  NFI Industries   \n",
       "20             n/a     4.6                                             SEI   \n",
       "21  Data Scientist     3.5                       Catalent Pharma Solutions   \n",
       "\n",
       "              Location  Employee Provided  Excel  AWS  SQL Seniority  \\\n",
       "0           Dayton, OH                  0      0    0    0       n/a   \n",
       "1      Chevy Chase, MD                  0      0    0    0    Senior   \n",
       "2       Alexandria, MN                  0      0    0    0    Senior   \n",
       "3           Boston, MA                  0      0    0    0       n/a   \n",
       "4           Lorton, VA                  0      0    0    0       n/a   \n",
       "5          Bethany, CT                  0      0    0    0    Senior   \n",
       "6    East Syracuse, NY                  0      0    0    0       n/a   \n",
       "7        Middleton, WI                  0      0    0    0       n/a   \n",
       "8        Middleton, WI                  0      0    0    0    Senior   \n",
       "9     White Plains, NY                  0      0    0    0       n/a   \n",
       "10           Ogden, UT                  0      0    0    0       n/a   \n",
       "11          Laurel, MD                  0      0    0    0       n/a   \n",
       "12      Winchester, KY                  0      0    0    0       n/a   \n",
       "13                  -1                  0      0    0    0       n/a   \n",
       "14       Billerica, MA                  0      0    0    0       n/a   \n",
       "15        Chubbuck, ID                  0      0    0    0       n/a   \n",
       "16  Salt Lake City, UT                  0      0    0    0       n/a   \n",
       "17  Salt Lake City, UT                  0      1    0    0       n/a   \n",
       "18     Baton Rouge, LA                  0      0    0    0       n/a   \n",
       "19          Camden, NJ                  0      1    0    1       n/a   \n",
       "20      Cincinnati, OH                  0      1    0    0       n/a   \n",
       "21      Winchester, KY                  0      0    0    0       n/a   \n",
       "\n",
       "    desc_len  min_salary  max_salary  avg_salary  hourly  \n",
       "0        438          56          56        56.0       0  \n",
       "1        972         139         139       139.0       0  \n",
       "2        975          68          68        68.0       0  \n",
       "3       1243         114         114       114.0       0  \n",
       "4       1084         120         120       120.0       0  \n",
       "5        549          75          75        75.0       0  \n",
       "6        944          51          51        51.0       0  \n",
       "7        717          62          62        62.0       0  \n",
       "8        938          98          98        98.0       0  \n",
       "9        479          48          48        24.0       1  \n",
       "10       898          44          44        44.0       0  \n",
       "11      2386          79          79        79.0       0  \n",
       "12      1440          38          38        38.0       0  \n",
       "13         2          61          61        61.0       0  \n",
       "14       762          35          35        35.0       0  \n",
       "15       808          61          61        61.0       0  \n",
       "16       842          91          91        91.0       0  \n",
       "17      1169          67          67        67.0       0  \n",
       "18       488          34          34        17.0       1  \n",
       "19      3503          76          76        76.0       0  \n",
       "20      2342          81          81        81.0       0  \n",
       "21      1431          40          40        40.0       0  "
      ]
     },
     "execution_count": 18,
     "metadata": {},
     "output_type": "execute_result"
    }
   ],
   "source": [
    "data = data[['Title','Rating','Company Name','Location','Employee Provided','Excel','AWS','SQL','Seniority','desc_len','min_salary','max_salary','avg_salary','hourly']]\n",
    "data"
   ]
  },
  {
   "cell_type": "code",
   "execution_count": 19,
   "metadata": {},
   "outputs": [
    {
     "name": "stdout",
     "output_type": "stream",
     "text": [
      "Graph for Title: = 3\n"
     ]
    },
    {
     "data": {
      "image/png": "[encoded data removed]",
      "text/plain": [
       "<Figure size 432x288 with 1 Axes>"
      ]
     },
     "metadata": {
      "needs_background": "light"
     },
     "output_type": "display_data"
    },
    {
     "name": "stdout",
     "output_type": "stream",
     "text": [
      "Graph for Rating: = 13\n"
     ]
    },
    {
     "data": {
      "image/png": "[encoded data removed]",
      "text/plain": [
       "<Figure size 432x288 with 1 Axes>"
      ]
     },
     "metadata": {
      "needs_background": "light"
     },
     "output_type": "display_data"
    },
    {
     "name": "stdout",
     "output_type": "stream",
     "text": [
      "Graph for Company Name: = 18\n"
     ]
    },
    {
     "data": {
      "image/png": "[encoded data removed]",
      "text/plain": [
       "<Figure size 432x288 with 1 Axes>"
      ]
     },
     "metadata": {
      "needs_background": "light"
     },
     "output_type": "display_data"
    },
    {
     "name": "stdout",
     "output_type": "stream",
     "text": [
      "Graph for Location: = 19\n"
     ]
    },
    {
     "data": {
      "image/png": "[encoded data removed]",
      "text/plain": [
       "<Figure size 432x288 with 1 Axes>"
      ]
     },
     "metadata": {
      "needs_background": "light"
     },
     "output_type": "display_data"
    },
    {
     "name": "stdout",
     "output_type": "stream",
     "text": [
      "Graph for Employee Provided: = 1\n"
     ]
    },
    {
     "data": {
      "image/png": "[encoded data removed]",
      "text/plain": [
       "<Figure size 432x288 with 1 Axes>"
      ]
     },
     "metadata": {
      "needs_background": "light"
     },
     "output_type": "display_data"
    },
    {
     "name": "stdout",
     "output_type": "stream",
     "text": [
      "Graph for Excel: = 2\n"
     ]
    },
    {
     "data": {
      "image/png": "[encoded data removed]",
      "text/plain": [
       "<Figure size 432x288 with 1 Axes>"
      ]
     },
     "metadata": {
      "needs_background": "light"
     },
     "output_type": "display_data"
    },
    {
     "name": "stdout",
     "output_type": "stream",
     "text": [
      "Graph for AWS: = 1\n"
     ]
    },
    {
     "data": {
      "image/png": "[encoded data removed]",
      "text/plain": [
       "<Figure size 432x288 with 1 Axes>"
      ]
     },
     "metadata": {
      "needs_background": "light"
     },
     "output_type": "display_data"
    },
    {
     "name": "stdout",
     "output_type": "stream",
     "text": [
      "Graph for SQL: = 2\n"
     ]
    },
    {
     "data": {
      "image/png": "[encoded data removed]",
      "text/plain": [
       "<Figure size 432x288 with 1 Axes>"
      ]
     },
     "metadata": {
      "needs_background": "light"
     },
     "output_type": "display_data"
    },
    {
     "name": "stdout",
     "output_type": "stream",
     "text": [
      "Graph for Seniority: = 2\n"
     ]
    },
    {
     "data": {
      "image/png": "[encoded data removed]",
      "text/plain": [
       "<Figure size 432x288 with 1 Axes>"
      ]
     },
     "metadata": {
      "needs_background": "light"
     },
     "output_type": "display_data"
    },
    {
     "name": "stdout",
     "output_type": "stream",
     "text": [
      "Graph for desc_len: = 22\n"
     ]
    },
    {
     "data": {
      "image/png": "[encoded data removed]",
      "text/plain": [
       "<Figure size 432x288 with 1 Axes>"
      ]
     },
     "metadata": {
      "needs_background": "light"
     },
     "output_type": "display_data"
    },
    {
     "name": "stdout",
     "output_type": "stream",
     "text": [
      "Graph for min_salary: = 21\n"
     ]
    },
    {
     "data": {
      "image/png": "[encoded data removed]",
      "text/plain": [
       "<Figure size 432x288 with 1 Axes>"
      ]
     },
     "metadata": {
      "needs_background": "light"
     },
     "output_type": "display_data"
    },
    {
     "name": "stdout",
     "output_type": "stream",
     "text": [
      "Graph for max_salary: = 21\n"
     ]
    },
    {
     "data": {
      "image/png": "[encoded data removed]",
      "text/plain": [
       "<Figure size 432x288 with 1 Axes>"
      ]
     },
     "metadata": {
      "needs_background": "light"
     },
     "output_type": "display_data"
    },
    {
     "name": "stdout",
     "output_type": "stream",
     "text": [
      "Graph for avg_salary: = 21\n"
     ]
    },
    {
     "data": {
      "image/png": "[encoded data removed]",
      "text/plain": [
       "<Figure size 432x288 with 1 Axes>"
      ]
     },
     "metadata": {
      "needs_background": "light"
     },
     "output_type": "display_data"
    },
    {
     "name": "stdout",
     "output_type": "stream",
     "text": [
      "Graph for hourly: = 2\n"
     ]
    },
    {
     "data": {
      "image/png": "[encoded data removed]",
      "text/plain": [
       "<Figure size 432x288 with 1 Axes>"
      ]
     },
     "metadata": {
      "needs_background": "light"
     },
     "output_type": "display_data"
    }
   ],
   "source": [
    "for i in data.columns:\n",
    "    df = data[i].value_counts()\n",
    "    sns.barplot(x=df.index, y=df)\n",
    "    print('Graph for %s: = %d' %(i, len(df)))\n",
    "    plt.show()"
   ]
  },
  {
   "cell_type": "code",
   "execution_count": 20,
   "metadata": {},
   "outputs": [
    {
     "name": "stdout",
     "output_type": "stream",
     "text": [
      "Graph for Title: = 3\n"
     ]
    },
    {
     "data": {
      "image/png": "[encoded data removed]",
      "text/plain": [
       "<Figure size 432x288 with 1 Axes>"
      ]
     },
     "metadata": {
      "needs_background": "light"
     },
     "output_type": "display_data"
    },
    {
     "name": "stdout",
     "output_type": "stream",
     "text": [
      "Graph for Rating: = 13\n"
     ]
    },
    {
     "data": {
      "image/png": "[encoded data removed]",
      "text/plain": [
       "<Figure size 432x288 with 1 Axes>"
      ]
     },
     "metadata": {
      "needs_background": "light"
     },
     "output_type": "display_data"
    },
    {
     "name": "stdout",
     "output_type": "stream",
     "text": [
      "Graph for Company Name: = 18\n"
     ]
    },
    {
     "data": {
      "image/png": "[encoded data removed]",
      "text/plain": [
       "<Figure size 432x288 with 1 Axes>"
      ]
     },
     "metadata": {
      "needs_background": "light"
     },
     "output_type": "display_data"
    },
    {
     "name": "stdout",
     "output_type": "stream",
     "text": [
      "Graph for Location: = 19\n"
     ]
    },
    {
     "data": {
      "image/png": "[encoded data removed]",
      "text/plain": [
       "<Figure size 432x288 with 1 Axes>"
      ]
     },
     "metadata": {
      "needs_background": "light"
     },
     "output_type": "display_data"
    },
    {
     "name": "stdout",
     "output_type": "stream",
     "text": [
      "Graph for Employee Provided: = 1\n"
     ]
    },
    {
     "data": {
      "image/png": "[encoded data removed]",
      "text/plain": [
       "<Figure size 432x288 with 1 Axes>"
      ]
     },
     "metadata": {
      "needs_background": "light"
     },
     "output_type": "display_data"
    },
    {
     "name": "stdout",
     "output_type": "stream",
     "text": [
      "Graph for Excel: = 2\n"
     ]
    },
    {
     "data": {
      "image/png": "[encoded data removed]",
      "text/plain": [
       "<Figure size 432x288 with 1 Axes>"
      ]
     },
     "metadata": {
      "needs_background": "light"
     },
     "output_type": "display_data"
    },
    {
     "name": "stdout",
     "output_type": "stream",
     "text": [
      "Graph for AWS: = 1\n"
     ]
    },
    {
     "data": {
      "image/png": "[encoded data removed]",
      "text/plain": [
       "<Figure size 432x288 with 1 Axes>"
      ]
     },
     "metadata": {
      "needs_background": "light"
     },
     "output_type": "display_data"
    },
    {
     "name": "stdout",
     "output_type": "stream",
     "text": [
      "Graph for SQL: = 2\n"
     ]
    },
    {
     "data": {
      "image/png": "[encoded data removed]",
      "text/plain": [
       "<Figure size 432x288 with 1 Axes>"
      ]
     },
     "metadata": {
      "needs_background": "light"
     },
     "output_type": "display_data"
    },
    {
     "name": "stdout",
     "output_type": "stream",
     "text": [
      "Graph for Seniority: = 2\n"
     ]
    },
    {
     "data": {
      "image/png": "[encoded data removed]",
      "text/plain": [
       "<Figure size 432x288 with 1 Axes>"
      ]
     },
     "metadata": {
      "needs_background": "light"
     },
     "output_type": "display_data"
    },
    {
     "name": "stdout",
     "output_type": "stream",
     "text": [
      "Graph for desc_len: = 22\n"
     ]
    },
    {
     "data": {
      "image/png": "[encoded data removed]",
      "text/plain": [
       "<Figure size 432x288 with 1 Axes>"
      ]
     },
     "metadata": {
      "needs_background": "light"
     },
     "output_type": "display_data"
    },
    {
     "name": "stdout",
     "output_type": "stream",
     "text": [
      "Graph for min_salary: = 21\n"
     ]
    },
    {
     "data": {
      "image/png": "[encoded data removed]",
      "text/plain": [
       "<Figure size 432x288 with 1 Axes>"
      ]
     },
     "metadata": {
      "needs_background": "light"
     },
     "output_type": "display_data"
    },
    {
     "name": "stdout",
     "output_type": "stream",
     "text": [
      "Graph for max_salary: = 21\n"
     ]
    },
    {
     "data": {
      "image/png": "[encoded data removed]",
      "text/plain": [
       "<Figure size 432x288 with 1 Axes>"
      ]
     },
     "metadata": {
      "needs_background": "light"
     },
     "output_type": "display_data"
    },
    {
     "name": "stdout",
     "output_type": "stream",
     "text": [
      "Graph for avg_salary: = 21\n"
     ]
    },
    {
     "data": {
      "image/png": "[encoded data removed]",
      "text/plain": [
       "<Figure size 432x288 with 1 Axes>"
      ]
     },
     "metadata": {
      "needs_background": "light"
     },
     "output_type": "display_data"
    },
    {
     "name": "stdout",
     "output_type": "stream",
     "text": [
      "Graph for hourly: = 2\n"
     ]
    },
    {
     "data": {
      "image/png": "[encoded data removed]",
      "text/plain": [
       "<Figure size 432x288 with 1 Axes>"
      ]
     },
     "metadata": {
      "needs_background": "light"
     },
     "output_type": "display_data"
    }
   ],
   "source": [
    "for i in data.columns:\n",
    "    df = data[i].value_counts()\n",
    "    datax = sns.barplot(x=df.index, y=df)\n",
    "    datax.set_xticklabels(datax.get_xticklabels(),rotation=40)\n",
    "    print('Graph for %s: = %d' %(i, len(df)))\n",
    "#     print(df)   \n",
    "    plt.show()"
   ]
  },
  {
   "cell_type": "code",
   "execution_count": 21,
   "metadata": {},
   "outputs": [
    {
     "data": {
      "text/html": [
       "<div>\n",
       "<style scoped>\n",
       "    .dataframe tbody tr th:only-of-type {\n",
       "        vertical-align: middle;\n",
       "    }\n",
       "\n",
       "    .dataframe tbody tr th {\n",
       "        vertical-align: top;\n",
       "    }\n",
       "\n",
       "    .dataframe thead th {\n",
       "        text-align: right;\n",
       "    }\n",
       "</style>\n",
       "<table border=\"1\" class=\"dataframe\">\n",
       "  <thead>\n",
       "    <tr style=\"text-align: right;\">\n",
       "      <th></th>\n",
       "      <th>avg_salary</th>\n",
       "    </tr>\n",
       "    <tr>\n",
       "      <th>Title</th>\n",
       "      <th></th>\n",
       "    </tr>\n",
       "  </thead>\n",
       "  <tbody>\n",
       "    <tr>\n",
       "      <th>Data Engineer</th>\n",
       "      <td>60.333333</td>\n",
       "    </tr>\n",
       "    <tr>\n",
       "      <th>Data Scientist</th>\n",
       "      <td>69.058824</td>\n",
       "    </tr>\n",
       "    <tr>\n",
       "      <th>n/a</th>\n",
       "      <td>71.000000</td>\n",
       "    </tr>\n",
       "  </tbody>\n",
       "</table>\n",
       "</div>"
      ],
      "text/plain": [
       "                avg_salary\n",
       "Title                     \n",
       "Data Engineer    60.333333\n",
       "Data Scientist   69.058824\n",
       "n/a              71.000000"
      ]
     },
     "execution_count": 21,
     "metadata": {},
     "output_type": "execute_result"
    }
   ],
   "source": [
    "pd.pivot_table(data, index='Title', values='avg_salary')"
   ]
  },
  {
   "cell_type": "code",
   "execution_count": 22,
   "metadata": {},
   "outputs": [
    {
     "data": {
      "text/html": [
       "<div>\n",
       "<style scoped>\n",
       "    .dataframe tbody tr th:only-of-type {\n",
       "        vertical-align: middle;\n",
       "    }\n",
       "\n",
       "    .dataframe tbody tr th {\n",
       "        vertical-align: top;\n",
       "    }\n",
       "\n",
       "    .dataframe thead th {\n",
       "        text-align: right;\n",
       "    }\n",
       "</style>\n",
       "<table border=\"1\" class=\"dataframe\">\n",
       "  <thead>\n",
       "    <tr style=\"text-align: right;\">\n",
       "      <th></th>\n",
       "      <th></th>\n",
       "      <th>avg_salary</th>\n",
       "    </tr>\n",
       "    <tr>\n",
       "      <th>Title</th>\n",
       "      <th>Rating</th>\n",
       "      <th></th>\n",
       "    </tr>\n",
       "  </thead>\n",
       "  <tbody>\n",
       "    <tr>\n",
       "      <th rowspan=\"3\" valign=\"top\">Data Engineer</th>\n",
       "      <th>3.3</th>\n",
       "      <td>76.000000</td>\n",
       "    </tr>\n",
       "    <tr>\n",
       "      <th>3.8</th>\n",
       "      <td>44.000000</td>\n",
       "    </tr>\n",
       "    <tr>\n",
       "      <th>4.5</th>\n",
       "      <td>61.000000</td>\n",
       "    </tr>\n",
       "    <tr>\n",
       "      <th rowspan=\"9\" valign=\"top\">Data Scientist</th>\n",
       "      <th>2.0</th>\n",
       "      <td>17.000000</td>\n",
       "    </tr>\n",
       "    <tr>\n",
       "      <th>2.5</th>\n",
       "      <td>120.000000</td>\n",
       "    </tr>\n",
       "    <tr>\n",
       "      <th>3.1</th>\n",
       "      <td>51.000000</td>\n",
       "    </tr>\n",
       "    <tr>\n",
       "      <th>3.4</th>\n",
       "      <td>75.000000</td>\n",
       "    </tr>\n",
       "    <tr>\n",
       "      <th>3.5</th>\n",
       "      <td>79.857143</td>\n",
       "    </tr>\n",
       "    <tr>\n",
       "      <th>3.6</th>\n",
       "      <td>35.000000</td>\n",
       "    </tr>\n",
       "    <tr>\n",
       "      <th>3.7</th>\n",
       "      <td>56.000000</td>\n",
       "    </tr>\n",
       "    <tr>\n",
       "      <th>3.8</th>\n",
       "      <td>60.666667</td>\n",
       "    </tr>\n",
       "    <tr>\n",
       "      <th>4.7</th>\n",
       "      <td>79.000000</td>\n",
       "    </tr>\n",
       "    <tr>\n",
       "      <th rowspan=\"2\" valign=\"top\">n/a</th>\n",
       "      <th>-1.0</th>\n",
       "      <td>61.000000</td>\n",
       "    </tr>\n",
       "    <tr>\n",
       "      <th>4.6</th>\n",
       "      <td>81.000000</td>\n",
       "    </tr>\n",
       "  </tbody>\n",
       "</table>\n",
       "</div>"
      ],
      "text/plain": [
       "                       avg_salary\n",
       "Title          Rating            \n",
       "Data Engineer   3.3     76.000000\n",
       "                3.8     44.000000\n",
       "                4.5     61.000000\n",
       "Data Scientist  2.0     17.000000\n",
       "                2.5    120.000000\n",
       "                3.1     51.000000\n",
       "                3.4     75.000000\n",
       "                3.5     79.857143\n",
       "                3.6     35.000000\n",
       "                3.7     56.000000\n",
       "                3.8     60.666667\n",
       "                4.7     79.000000\n",
       "n/a            -1.0     61.000000\n",
       "                4.6     81.000000"
      ]
     },
     "execution_count": 22,
     "metadata": {},
     "output_type": "execute_result"
    }
   ],
   "source": [
    "pd.pivot_table(data, index=['Title','Rating'], values='avg_salary')"
   ]
  },
  {
   "cell_type": "code",
   "execution_count": 23,
   "metadata": {},
   "outputs": [
    {
     "data": {
      "text/html": [
       "<div>\n",
       "<style scoped>\n",
       "    .dataframe tbody tr th:only-of-type {\n",
       "        vertical-align: middle;\n",
       "    }\n",
       "\n",
       "    .dataframe tbody tr th {\n",
       "        vertical-align: top;\n",
       "    }\n",
       "\n",
       "    .dataframe thead th {\n",
       "        text-align: right;\n",
       "    }\n",
       "</style>\n",
       "<table border=\"1\" class=\"dataframe\">\n",
       "  <thead>\n",
       "    <tr style=\"text-align: right;\">\n",
       "      <th></th>\n",
       "      <th></th>\n",
       "      <th></th>\n",
       "      <th>avg_salary</th>\n",
       "    </tr>\n",
       "    <tr>\n",
       "      <th>Title</th>\n",
       "      <th>Seniority</th>\n",
       "      <th>Location</th>\n",
       "      <th></th>\n",
       "    </tr>\n",
       "  </thead>\n",
       "  <tbody>\n",
       "    <tr>\n",
       "      <th rowspan=\"4\" valign=\"top\">Data Scientist</th>\n",
       "      <th>Senior</th>\n",
       "      <th>Chevy Chase, MD</th>\n",
       "      <td>139.0</td>\n",
       "    </tr>\n",
       "    <tr>\n",
       "      <th rowspan=\"2\" valign=\"top\">n/a</th>\n",
       "      <th>Lorton, VA</th>\n",
       "      <td>120.0</td>\n",
       "    </tr>\n",
       "    <tr>\n",
       "      <th>Boston, MA</th>\n",
       "      <td>114.0</td>\n",
       "    </tr>\n",
       "    <tr>\n",
       "      <th>Senior</th>\n",
       "      <th>Middleton, WI</th>\n",
       "      <td>98.0</td>\n",
       "    </tr>\n",
       "    <tr>\n",
       "      <th>n/a</th>\n",
       "      <th>n/a</th>\n",
       "      <th>Cincinnati, OH</th>\n",
       "      <td>81.0</td>\n",
       "    </tr>\n",
       "    <tr>\n",
       "      <th rowspan=\"2\" valign=\"top\">Data Scientist</th>\n",
       "      <th rowspan=\"2\" valign=\"top\">n/a</th>\n",
       "      <th>Salt Lake City, UT</th>\n",
       "      <td>79.0</td>\n",
       "    </tr>\n",
       "    <tr>\n",
       "      <th>Laurel, MD</th>\n",
       "      <td>79.0</td>\n",
       "    </tr>\n",
       "    <tr>\n",
       "      <th>Data Engineer</th>\n",
       "      <th>n/a</th>\n",
       "      <th>Camden, NJ</th>\n",
       "      <td>76.0</td>\n",
       "    </tr>\n",
       "    <tr>\n",
       "      <th rowspan=\"3\" valign=\"top\">Data Scientist</th>\n",
       "      <th rowspan=\"2\" valign=\"top\">Senior</th>\n",
       "      <th>Bethany, CT</th>\n",
       "      <td>75.0</td>\n",
       "    </tr>\n",
       "    <tr>\n",
       "      <th>Alexandria, MN</th>\n",
       "      <td>68.0</td>\n",
       "    </tr>\n",
       "    <tr>\n",
       "      <th>n/a</th>\n",
       "      <th>Middleton, WI</th>\n",
       "      <td>62.0</td>\n",
       "    </tr>\n",
       "    <tr>\n",
       "      <th>Data Engineer</th>\n",
       "      <th>n/a</th>\n",
       "      <th>Chubbuck, ID</th>\n",
       "      <td>61.0</td>\n",
       "    </tr>\n",
       "    <tr>\n",
       "      <th>n/a</th>\n",
       "      <th>n/a</th>\n",
       "      <th>-1</th>\n",
       "      <td>61.0</td>\n",
       "    </tr>\n",
       "    <tr>\n",
       "      <th rowspan=\"2\" valign=\"top\">Data Scientist</th>\n",
       "      <th rowspan=\"2\" valign=\"top\">n/a</th>\n",
       "      <th>Dayton, OH</th>\n",
       "      <td>56.0</td>\n",
       "    </tr>\n",
       "    <tr>\n",
       "      <th>East Syracuse, NY</th>\n",
       "      <td>51.0</td>\n",
       "    </tr>\n",
       "    <tr>\n",
       "      <th>Data Engineer</th>\n",
       "      <th>n/a</th>\n",
       "      <th>Ogden, UT</th>\n",
       "      <td>44.0</td>\n",
       "    </tr>\n",
       "    <tr>\n",
       "      <th rowspan=\"4\" valign=\"top\">Data Scientist</th>\n",
       "      <th rowspan=\"4\" valign=\"top\">n/a</th>\n",
       "      <th>Winchester, KY</th>\n",
       "      <td>39.0</td>\n",
       "    </tr>\n",
       "    <tr>\n",
       "      <th>Billerica, MA</th>\n",
       "      <td>35.0</td>\n",
       "    </tr>\n",
       "    <tr>\n",
       "      <th>White Plains, NY</th>\n",
       "      <td>24.0</td>\n",
       "    </tr>\n",
       "    <tr>\n",
       "      <th>Baton Rouge, LA</th>\n",
       "      <td>17.0</td>\n",
       "    </tr>\n",
       "  </tbody>\n",
       "</table>\n",
       "</div>"
      ],
      "text/plain": [
       "                                             avg_salary\n",
       "Title          Seniority Location                      \n",
       "Data Scientist Senior    Chevy Chase, MD          139.0\n",
       "               n/a       Lorton, VA               120.0\n",
       "                         Boston, MA               114.0\n",
       "               Senior    Middleton, WI             98.0\n",
       "n/a            n/a       Cincinnati, OH            81.0\n",
       "Data Scientist n/a       Salt Lake City, UT        79.0\n",
       "                         Laurel, MD                79.0\n",
       "Data Engineer  n/a       Camden, NJ                76.0\n",
       "Data Scientist Senior    Bethany, CT               75.0\n",
       "                         Alexandria, MN            68.0\n",
       "               n/a       Middleton, WI             62.0\n",
       "Data Engineer  n/a       Chubbuck, ID              61.0\n",
       "n/a            n/a       -1                        61.0\n",
       "Data Scientist n/a       Dayton, OH                56.0\n",
       "                         East Syracuse, NY         51.0\n",
       "Data Engineer  n/a       Ogden, UT                 44.0\n",
       "Data Scientist n/a       Winchester, KY            39.0\n",
       "                         Billerica, MA             35.0\n",
       "                         White Plains, NY          24.0\n",
       "                         Baton Rouge, LA           17.0"
      ]
     },
     "execution_count": 23,
     "metadata": {},
     "output_type": "execute_result"
    }
   ],
   "source": [
    "pd.pivot_table(data, index=['Title','Seniority','Location'], values='avg_salary').sort_values('avg_salary', ascending=False)"
   ]
  },
  {
   "cell_type": "code",
   "execution_count": 24,
   "metadata": {},
   "outputs": [
    {
     "data": {
      "text/html": [
       "<div>\n",
       "<style scoped>\n",
       "    .dataframe tbody tr th:only-of-type {\n",
       "        vertical-align: middle;\n",
       "    }\n",
       "\n",
       "    .dataframe tbody tr th {\n",
       "        vertical-align: top;\n",
       "    }\n",
       "\n",
       "    .dataframe thead th {\n",
       "        text-align: right;\n",
       "    }\n",
       "</style>\n",
       "<table border=\"1\" class=\"dataframe\">\n",
       "  <thead>\n",
       "    <tr style=\"text-align: right;\">\n",
       "      <th></th>\n",
       "      <th></th>\n",
       "      <th></th>\n",
       "      <th>avg_salary</th>\n",
       "    </tr>\n",
       "    <tr>\n",
       "      <th>Title</th>\n",
       "      <th>Seniority</th>\n",
       "      <th>Location</th>\n",
       "      <th></th>\n",
       "    </tr>\n",
       "  </thead>\n",
       "  <tbody>\n",
       "    <tr>\n",
       "      <th rowspan=\"2\" valign=\"top\">Data Scientist</th>\n",
       "      <th rowspan=\"2\" valign=\"top\">n/a</th>\n",
       "      <th>Winchester, KY</th>\n",
       "      <td>2</td>\n",
       "    </tr>\n",
       "    <tr>\n",
       "      <th>Salt Lake City, UT</th>\n",
       "      <td>2</td>\n",
       "    </tr>\n",
       "    <tr>\n",
       "      <th rowspan=\"2\" valign=\"top\">Data Engineer</th>\n",
       "      <th rowspan=\"2\" valign=\"top\">n/a</th>\n",
       "      <th>Camden, NJ</th>\n",
       "      <td>1</td>\n",
       "    </tr>\n",
       "    <tr>\n",
       "      <th>Chubbuck, ID</th>\n",
       "      <td>1</td>\n",
       "    </tr>\n",
       "    <tr>\n",
       "      <th>n/a</th>\n",
       "      <th>n/a</th>\n",
       "      <th>-1</th>\n",
       "      <td>1</td>\n",
       "    </tr>\n",
       "    <tr>\n",
       "      <th rowspan=\"13\" valign=\"top\">Data Scientist</th>\n",
       "      <th rowspan=\"9\" valign=\"top\">n/a</th>\n",
       "      <th>White Plains, NY</th>\n",
       "      <td>1</td>\n",
       "    </tr>\n",
       "    <tr>\n",
       "      <th>Middleton, WI</th>\n",
       "      <td>1</td>\n",
       "    </tr>\n",
       "    <tr>\n",
       "      <th>Lorton, VA</th>\n",
       "      <td>1</td>\n",
       "    </tr>\n",
       "    <tr>\n",
       "      <th>Laurel, MD</th>\n",
       "      <td>1</td>\n",
       "    </tr>\n",
       "    <tr>\n",
       "      <th>East Syracuse, NY</th>\n",
       "      <td>1</td>\n",
       "    </tr>\n",
       "    <tr>\n",
       "      <th>Dayton, OH</th>\n",
       "      <td>1</td>\n",
       "    </tr>\n",
       "    <tr>\n",
       "      <th>Boston, MA</th>\n",
       "      <td>1</td>\n",
       "    </tr>\n",
       "    <tr>\n",
       "      <th>Billerica, MA</th>\n",
       "      <td>1</td>\n",
       "    </tr>\n",
       "    <tr>\n",
       "      <th>Baton Rouge, LA</th>\n",
       "      <td>1</td>\n",
       "    </tr>\n",
       "    <tr>\n",
       "      <th rowspan=\"4\" valign=\"top\">Senior</th>\n",
       "      <th>Middleton, WI</th>\n",
       "      <td>1</td>\n",
       "    </tr>\n",
       "    <tr>\n",
       "      <th>Chevy Chase, MD</th>\n",
       "      <td>1</td>\n",
       "    </tr>\n",
       "    <tr>\n",
       "      <th>Bethany, CT</th>\n",
       "      <td>1</td>\n",
       "    </tr>\n",
       "    <tr>\n",
       "      <th>Alexandria, MN</th>\n",
       "      <td>1</td>\n",
       "    </tr>\n",
       "    <tr>\n",
       "      <th>Data Engineer</th>\n",
       "      <th>n/a</th>\n",
       "      <th>Ogden, UT</th>\n",
       "      <td>1</td>\n",
       "    </tr>\n",
       "    <tr>\n",
       "      <th>n/a</th>\n",
       "      <th>n/a</th>\n",
       "      <th>Cincinnati, OH</th>\n",
       "      <td>1</td>\n",
       "    </tr>\n",
       "  </tbody>\n",
       "</table>\n",
       "</div>"
      ],
      "text/plain": [
       "                                             avg_salary\n",
       "Title          Seniority Location                      \n",
       "Data Scientist n/a       Winchester, KY               2\n",
       "                         Salt Lake City, UT           2\n",
       "Data Engineer  n/a       Camden, NJ                   1\n",
       "                         Chubbuck, ID                 1\n",
       "n/a            n/a       -1                           1\n",
       "Data Scientist n/a       White Plains, NY             1\n",
       "                         Middleton, WI                1\n",
       "                         Lorton, VA                   1\n",
       "                         Laurel, MD                   1\n",
       "                         East Syracuse, NY            1\n",
       "                         Dayton, OH                   1\n",
       "                         Boston, MA                   1\n",
       "                         Billerica, MA                1\n",
       "                         Baton Rouge, LA              1\n",
       "               Senior    Middleton, WI                1\n",
       "                         Chevy Chase, MD              1\n",
       "                         Bethany, CT                  1\n",
       "                         Alexandria, MN               1\n",
       "Data Engineer  n/a       Ogden, UT                    1\n",
       "n/a            n/a       Cincinnati, OH               1"
      ]
     },
     "execution_count": 24,
     "metadata": {},
     "output_type": "execute_result"
    }
   ],
   "source": [
    "pd.pivot_table(data, index=['Title','Seniority','Location'], values='avg_salary', aggfunc='count').sort_values('avg_salary', ascending=False)"
   ]
  },
  {
   "cell_type": "code",
   "execution_count": 25,
   "metadata": {},
   "outputs": [
    {
     "data": {
      "text/html": [
       "<div>\n",
       "<style scoped>\n",
       "    .dataframe tbody tr th:only-of-type {\n",
       "        vertical-align: middle;\n",
       "    }\n",
       "\n",
       "    .dataframe tbody tr th {\n",
       "        vertical-align: top;\n",
       "    }\n",
       "\n",
       "    .dataframe thead th {\n",
       "        text-align: right;\n",
       "    }\n",
       "</style>\n",
       "<table border=\"1\" class=\"dataframe\">\n",
       "  <thead>\n",
       "    <tr style=\"text-align: right;\">\n",
       "      <th></th>\n",
       "      <th></th>\n",
       "      <th>avg_salary</th>\n",
       "    </tr>\n",
       "    <tr>\n",
       "      <th>Title</th>\n",
       "      <th>Location</th>\n",
       "      <th></th>\n",
       "    </tr>\n",
       "  </thead>\n",
       "  <tbody>\n",
       "    <tr>\n",
       "      <th rowspan=\"14\" valign=\"top\">Data Scientist</th>\n",
       "      <th>Chevy Chase, MD</th>\n",
       "      <td>139.0</td>\n",
       "    </tr>\n",
       "    <tr>\n",
       "      <th>Lorton, VA</th>\n",
       "      <td>120.0</td>\n",
       "    </tr>\n",
       "    <tr>\n",
       "      <th>Boston, MA</th>\n",
       "      <td>114.0</td>\n",
       "    </tr>\n",
       "    <tr>\n",
       "      <th>Middleton, WI</th>\n",
       "      <td>80.0</td>\n",
       "    </tr>\n",
       "    <tr>\n",
       "      <th>Laurel, MD</th>\n",
       "      <td>79.0</td>\n",
       "    </tr>\n",
       "    <tr>\n",
       "      <th>Salt Lake City, UT</th>\n",
       "      <td>79.0</td>\n",
       "    </tr>\n",
       "    <tr>\n",
       "      <th>Bethany, CT</th>\n",
       "      <td>75.0</td>\n",
       "    </tr>\n",
       "    <tr>\n",
       "      <th>Alexandria, MN</th>\n",
       "      <td>68.0</td>\n",
       "    </tr>\n",
       "    <tr>\n",
       "      <th>Dayton, OH</th>\n",
       "      <td>56.0</td>\n",
       "    </tr>\n",
       "    <tr>\n",
       "      <th>East Syracuse, NY</th>\n",
       "      <td>51.0</td>\n",
       "    </tr>\n",
       "    <tr>\n",
       "      <th>Winchester, KY</th>\n",
       "      <td>39.0</td>\n",
       "    </tr>\n",
       "    <tr>\n",
       "      <th>Billerica, MA</th>\n",
       "      <td>35.0</td>\n",
       "    </tr>\n",
       "    <tr>\n",
       "      <th>White Plains, NY</th>\n",
       "      <td>24.0</td>\n",
       "    </tr>\n",
       "    <tr>\n",
       "      <th>Baton Rouge, LA</th>\n",
       "      <td>17.0</td>\n",
       "    </tr>\n",
       "  </tbody>\n",
       "</table>\n",
       "</div>"
      ],
      "text/plain": [
       "                                   avg_salary\n",
       "Title          Location                      \n",
       "Data Scientist Chevy Chase, MD          139.0\n",
       "               Lorton, VA               120.0\n",
       "               Boston, MA               114.0\n",
       "               Middleton, WI             80.0\n",
       "               Laurel, MD                79.0\n",
       "               Salt Lake City, UT        79.0\n",
       "               Bethany, CT               75.0\n",
       "               Alexandria, MN            68.0\n",
       "               Dayton, OH                56.0\n",
       "               East Syracuse, NY         51.0\n",
       "               Winchester, KY            39.0\n",
       "               Billerica, MA             35.0\n",
       "               White Plains, NY          24.0\n",
       "               Baton Rouge, LA           17.0"
      ]
     },
     "execution_count": 25,
     "metadata": {},
     "output_type": "execute_result"
    }
   ],
   "source": [
    "pd.pivot_table(data[data.Title == 'Data Scientist'], index=['Title','Location'], values='avg_salary').sort_values('avg_salary', ascending=False)"
   ]
  },
  {
   "cell_type": "code",
   "execution_count": 26,
   "metadata": {},
   "outputs": [
    {
     "data": {
      "text/html": [
       "<div>\n",
       "<style scoped>\n",
       "    .dataframe tbody tr th:only-of-type {\n",
       "        vertical-align: middle;\n",
       "    }\n",
       "\n",
       "    .dataframe tbody tr th {\n",
       "        vertical-align: top;\n",
       "    }\n",
       "\n",
       "    .dataframe thead th {\n",
       "        text-align: right;\n",
       "    }\n",
       "</style>\n",
       "<table border=\"1\" class=\"dataframe\">\n",
       "  <thead>\n",
       "    <tr style=\"text-align: right;\">\n",
       "      <th></th>\n",
       "      <th>Title</th>\n",
       "      <th>Rating</th>\n",
       "      <th>Company Name</th>\n",
       "      <th>Location</th>\n",
       "      <th>Employee Provided</th>\n",
       "      <th>Excel</th>\n",
       "      <th>AWS</th>\n",
       "      <th>SQL</th>\n",
       "      <th>Seniority</th>\n",
       "      <th>desc_len</th>\n",
       "      <th>min_salary</th>\n",
       "      <th>max_salary</th>\n",
       "      <th>avg_salary</th>\n",
       "      <th>hourly</th>\n",
       "    </tr>\n",
       "  </thead>\n",
       "  <tbody>\n",
       "    <tr>\n",
       "      <th>0</th>\n",
       "      <td>Data Scientist</td>\n",
       "      <td>3.7</td>\n",
       "      <td>Premier Health</td>\n",
       "      <td>Dayton, OH</td>\n",
       "      <td>0</td>\n",
       "      <td>0</td>\n",
       "      <td>0</td>\n",
       "      <td>0</td>\n",
       "      <td>n/a</td>\n",
       "      <td>438</td>\n",
       "      <td>56</td>\n",
       "      <td>56</td>\n",
       "      <td>56.0</td>\n",
       "      <td>0</td>\n",
       "    </tr>\n",
       "    <tr>\n",
       "      <th>1</th>\n",
       "      <td>Data Scientist</td>\n",
       "      <td>3.5</td>\n",
       "      <td>GEICO</td>\n",
       "      <td>Chevy Chase, MD</td>\n",
       "      <td>0</td>\n",
       "      <td>0</td>\n",
       "      <td>0</td>\n",
       "      <td>0</td>\n",
       "      <td>Senior</td>\n",
       "      <td>972</td>\n",
       "      <td>139</td>\n",
       "      <td>139</td>\n",
       "      <td>139.0</td>\n",
       "      <td>0</td>\n",
       "    </tr>\n",
       "    <tr>\n",
       "      <th>2</th>\n",
       "      <td>Data Scientist</td>\n",
       "      <td>3.5</td>\n",
       "      <td>LGC Limited</td>\n",
       "      <td>Alexandria, MN</td>\n",
       "      <td>0</td>\n",
       "      <td>0</td>\n",
       "      <td>0</td>\n",
       "      <td>0</td>\n",
       "      <td>Senior</td>\n",
       "      <td>975</td>\n",
       "      <td>68</td>\n",
       "      <td>68</td>\n",
       "      <td>68.0</td>\n",
       "      <td>0</td>\n",
       "    </tr>\n",
       "    <tr>\n",
       "      <th>3</th>\n",
       "      <td>Data Scientist</td>\n",
       "      <td>3.5</td>\n",
       "      <td>Alteryx, Inc.</td>\n",
       "      <td>Boston, MA</td>\n",
       "      <td>0</td>\n",
       "      <td>0</td>\n",
       "      <td>0</td>\n",
       "      <td>0</td>\n",
       "      <td>n/a</td>\n",
       "      <td>1243</td>\n",
       "      <td>114</td>\n",
       "      <td>114</td>\n",
       "      <td>114.0</td>\n",
       "      <td>0</td>\n",
       "    </tr>\n",
       "    <tr>\n",
       "      <th>4</th>\n",
       "      <td>Data Scientist</td>\n",
       "      <td>2.5</td>\n",
       "      <td>QinetiQ Inc.</td>\n",
       "      <td>Lorton, VA</td>\n",
       "      <td>0</td>\n",
       "      <td>0</td>\n",
       "      <td>0</td>\n",
       "      <td>0</td>\n",
       "      <td>n/a</td>\n",
       "      <td>1084</td>\n",
       "      <td>120</td>\n",
       "      <td>120</td>\n",
       "      <td>120.0</td>\n",
       "      <td>0</td>\n",
       "    </tr>\n",
       "    <tr>\n",
       "      <th>5</th>\n",
       "      <td>Data Scientist</td>\n",
       "      <td>3.4</td>\n",
       "      <td>Laticrete International</td>\n",
       "      <td>Bethany, CT</td>\n",
       "      <td>0</td>\n",
       "      <td>0</td>\n",
       "      <td>0</td>\n",
       "      <td>0</td>\n",
       "      <td>Senior</td>\n",
       "      <td>549</td>\n",
       "      <td>75</td>\n",
       "      <td>75</td>\n",
       "      <td>75.0</td>\n",
       "      <td>0</td>\n",
       "    </tr>\n",
       "    <tr>\n",
       "      <th>6</th>\n",
       "      <td>Data Scientist</td>\n",
       "      <td>3.1</td>\n",
       "      <td>INFICON, Inc.</td>\n",
       "      <td>East Syracuse, NY</td>\n",
       "      <td>0</td>\n",
       "      <td>0</td>\n",
       "      <td>0</td>\n",
       "      <td>0</td>\n",
       "      <td>n/a</td>\n",
       "      <td>944</td>\n",
       "      <td>51</td>\n",
       "      <td>51</td>\n",
       "      <td>51.0</td>\n",
       "      <td>0</td>\n",
       "    </tr>\n",
       "    <tr>\n",
       "      <th>7</th>\n",
       "      <td>Data Scientist</td>\n",
       "      <td>3.5</td>\n",
       "      <td>LGC Limited</td>\n",
       "      <td>Middleton, WI</td>\n",
       "      <td>0</td>\n",
       "      <td>0</td>\n",
       "      <td>0</td>\n",
       "      <td>0</td>\n",
       "      <td>n/a</td>\n",
       "      <td>717</td>\n",
       "      <td>62</td>\n",
       "      <td>62</td>\n",
       "      <td>62.0</td>\n",
       "      <td>0</td>\n",
       "    </tr>\n",
       "    <tr>\n",
       "      <th>8</th>\n",
       "      <td>Data Scientist</td>\n",
       "      <td>3.5</td>\n",
       "      <td>LGC Limited</td>\n",
       "      <td>Middleton, WI</td>\n",
       "      <td>0</td>\n",
       "      <td>0</td>\n",
       "      <td>0</td>\n",
       "      <td>0</td>\n",
       "      <td>Senior</td>\n",
       "      <td>938</td>\n",
       "      <td>98</td>\n",
       "      <td>98</td>\n",
       "      <td>98.0</td>\n",
       "      <td>0</td>\n",
       "    </tr>\n",
       "    <tr>\n",
       "      <th>9</th>\n",
       "      <td>Data Scientist</td>\n",
       "      <td>3.8</td>\n",
       "      <td>White Plains Hospital</td>\n",
       "      <td>White Plains, NY</td>\n",
       "      <td>0</td>\n",
       "      <td>0</td>\n",
       "      <td>0</td>\n",
       "      <td>0</td>\n",
       "      <td>n/a</td>\n",
       "      <td>479</td>\n",
       "      <td>48</td>\n",
       "      <td>48</td>\n",
       "      <td>24.0</td>\n",
       "      <td>1</td>\n",
       "    </tr>\n",
       "    <tr>\n",
       "      <th>10</th>\n",
       "      <td>Data Engineer</td>\n",
       "      <td>3.8</td>\n",
       "      <td>America First Credit Union</td>\n",
       "      <td>Ogden, UT</td>\n",
       "      <td>0</td>\n",
       "      <td>0</td>\n",
       "      <td>0</td>\n",
       "      <td>0</td>\n",
       "      <td>n/a</td>\n",
       "      <td>898</td>\n",
       "      <td>44</td>\n",
       "      <td>44</td>\n",
       "      <td>44.0</td>\n",
       "      <td>0</td>\n",
       "    </tr>\n",
       "    <tr>\n",
       "      <th>11</th>\n",
       "      <td>Data Scientist</td>\n",
       "      <td>4.7</td>\n",
       "      <td>Johns Hopkins Applied Physics Laboratory (APL)</td>\n",
       "      <td>Laurel, MD</td>\n",
       "      <td>0</td>\n",
       "      <td>0</td>\n",
       "      <td>0</td>\n",
       "      <td>0</td>\n",
       "      <td>n/a</td>\n",
       "      <td>2386</td>\n",
       "      <td>79</td>\n",
       "      <td>79</td>\n",
       "      <td>79.0</td>\n",
       "      <td>0</td>\n",
       "    </tr>\n",
       "    <tr>\n",
       "      <th>12</th>\n",
       "      <td>Data Scientist</td>\n",
       "      <td>3.5</td>\n",
       "      <td>Catalent Pharma Solutions</td>\n",
       "      <td>Winchester, KY</td>\n",
       "      <td>0</td>\n",
       "      <td>0</td>\n",
       "      <td>0</td>\n",
       "      <td>0</td>\n",
       "      <td>n/a</td>\n",
       "      <td>1440</td>\n",
       "      <td>38</td>\n",
       "      <td>38</td>\n",
       "      <td>38.0</td>\n",
       "      <td>0</td>\n",
       "    </tr>\n",
       "    <tr>\n",
       "      <th>13</th>\n",
       "      <td>n/a</td>\n",
       "      <td>-1.0</td>\n",
       "      <td>-1</td>\n",
       "      <td>-1</td>\n",
       "      <td>0</td>\n",
       "      <td>0</td>\n",
       "      <td>0</td>\n",
       "      <td>0</td>\n",
       "      <td>n/a</td>\n",
       "      <td>2</td>\n",
       "      <td>61</td>\n",
       "      <td>61</td>\n",
       "      <td>61.0</td>\n",
       "      <td>0</td>\n",
       "    </tr>\n",
       "    <tr>\n",
       "      <th>14</th>\n",
       "      <td>Data Scientist</td>\n",
       "      <td>3.6</td>\n",
       "      <td>Nova Biomedical</td>\n",
       "      <td>Billerica, MA</td>\n",
       "      <td>0</td>\n",
       "      <td>0</td>\n",
       "      <td>0</td>\n",
       "      <td>0</td>\n",
       "      <td>n/a</td>\n",
       "      <td>762</td>\n",
       "      <td>35</td>\n",
       "      <td>35</td>\n",
       "      <td>35.0</td>\n",
       "      <td>0</td>\n",
       "    </tr>\n",
       "    <tr>\n",
       "      <th>15</th>\n",
       "      <td>Data Engineer</td>\n",
       "      <td>4.5</td>\n",
       "      <td>Idaho Central Credit Union</td>\n",
       "      <td>Chubbuck, ID</td>\n",
       "      <td>0</td>\n",
       "      <td>0</td>\n",
       "      <td>0</td>\n",
       "      <td>0</td>\n",
       "      <td>n/a</td>\n",
       "      <td>808</td>\n",
       "      <td>61</td>\n",
       "      <td>61</td>\n",
       "      <td>61.0</td>\n",
       "      <td>0</td>\n",
       "    </tr>\n",
       "    <tr>\n",
       "      <th>16</th>\n",
       "      <td>Data Scientist</td>\n",
       "      <td>3.8</td>\n",
       "      <td>BioFire Diagnostics, LLC.</td>\n",
       "      <td>Salt Lake City, UT</td>\n",
       "      <td>0</td>\n",
       "      <td>0</td>\n",
       "      <td>0</td>\n",
       "      <td>0</td>\n",
       "      <td>n/a</td>\n",
       "      <td>842</td>\n",
       "      <td>91</td>\n",
       "      <td>91</td>\n",
       "      <td>91.0</td>\n",
       "      <td>0</td>\n",
       "    </tr>\n",
       "    <tr>\n",
       "      <th>17</th>\n",
       "      <td>Data Scientist</td>\n",
       "      <td>3.8</td>\n",
       "      <td>BioFire Diagnostics, LLC.</td>\n",
       "      <td>Salt Lake City, UT</td>\n",
       "      <td>0</td>\n",
       "      <td>1</td>\n",
       "      <td>0</td>\n",
       "      <td>0</td>\n",
       "      <td>n/a</td>\n",
       "      <td>1169</td>\n",
       "      <td>67</td>\n",
       "      <td>67</td>\n",
       "      <td>67.0</td>\n",
       "      <td>0</td>\n",
       "    </tr>\n",
       "    <tr>\n",
       "      <th>18</th>\n",
       "      <td>Data Scientist</td>\n",
       "      <td>2.0</td>\n",
       "      <td>MedLogic Laboratories</td>\n",
       "      <td>Baton Rouge, LA</td>\n",
       "      <td>0</td>\n",
       "      <td>0</td>\n",
       "      <td>0</td>\n",
       "      <td>0</td>\n",
       "      <td>n/a</td>\n",
       "      <td>488</td>\n",
       "      <td>34</td>\n",
       "      <td>34</td>\n",
       "      <td>17.0</td>\n",
       "      <td>1</td>\n",
       "    </tr>\n",
       "    <tr>\n",
       "      <th>19</th>\n",
       "      <td>Data Engineer</td>\n",
       "      <td>3.3</td>\n",
       "      <td>NFI Industries</td>\n",
       "      <td>Camden, NJ</td>\n",
       "      <td>0</td>\n",
       "      <td>1</td>\n",
       "      <td>0</td>\n",
       "      <td>1</td>\n",
       "      <td>n/a</td>\n",
       "      <td>3503</td>\n",
       "      <td>76</td>\n",
       "      <td>76</td>\n",
       "      <td>76.0</td>\n",
       "      <td>0</td>\n",
       "    </tr>\n",
       "    <tr>\n",
       "      <th>20</th>\n",
       "      <td>n/a</td>\n",
       "      <td>4.6</td>\n",
       "      <td>SEI</td>\n",
       "      <td>Cincinnati, OH</td>\n",
       "      <td>0</td>\n",
       "      <td>1</td>\n",
       "      <td>0</td>\n",
       "      <td>0</td>\n",
       "      <td>n/a</td>\n",
       "      <td>2342</td>\n",
       "      <td>81</td>\n",
       "      <td>81</td>\n",
       "      <td>81.0</td>\n",
       "      <td>0</td>\n",
       "    </tr>\n",
       "    <tr>\n",
       "      <th>21</th>\n",
       "      <td>Data Scientist</td>\n",
       "      <td>3.5</td>\n",
       "      <td>Catalent Pharma Solutions</td>\n",
       "      <td>Winchester, KY</td>\n",
       "      <td>0</td>\n",
       "      <td>0</td>\n",
       "      <td>0</td>\n",
       "      <td>0</td>\n",
       "      <td>n/a</td>\n",
       "      <td>1431</td>\n",
       "      <td>40</td>\n",
       "      <td>40</td>\n",
       "      <td>40.0</td>\n",
       "      <td>0</td>\n",
       "    </tr>\n",
       "  </tbody>\n",
       "</table>\n",
       "</div>"
      ],
      "text/plain": [
       "             Title  Rating                                    Company Name  \\\n",
       "0   Data Scientist     3.7                                  Premier Health   \n",
       "1   Data Scientist     3.5                                           GEICO   \n",
       "2   Data Scientist     3.5                                     LGC Limited   \n",
       "3   Data Scientist     3.5                                   Alteryx, Inc.   \n",
       "4   Data Scientist     2.5                                    QinetiQ Inc.   \n",
       "5   Data Scientist     3.4                         Laticrete International   \n",
       "6   Data Scientist     3.1                                   INFICON, Inc.   \n",
       "7   Data Scientist     3.5                                     LGC Limited   \n",
       "8   Data Scientist     3.5                                     LGC Limited   \n",
       "9   Data Scientist     3.8                           White Plains Hospital   \n",
       "10   Data Engineer     3.8                      America First Credit Union   \n",
       "11  Data Scientist     4.7  Johns Hopkins Applied Physics Laboratory (APL)   \n",
       "12  Data Scientist     3.5                       Catalent Pharma Solutions   \n",
       "13             n/a    -1.0                                              -1   \n",
       "14  Data Scientist     3.6                                 Nova Biomedical   \n",
       "15   Data Engineer     4.5                      Idaho Central Credit Union   \n",
       "16  Data Scientist     3.8                       BioFire Diagnostics, LLC.   \n",
       "17  Data Scientist     3.8                       BioFire Diagnostics, LLC.   \n",
       "18  Data Scientist     2.0                           MedLogic Laboratories   \n",
       "19   Data Engineer     3.3                                  NFI Industries   \n",
       "20             n/a     4.6                                             SEI   \n",
       "21  Data Scientist     3.5                       Catalent Pharma Solutions   \n",
       "\n",
       "              Location  Employee Provided  Excel  AWS  SQL Seniority  \\\n",
       "0           Dayton, OH                  0      0    0    0       n/a   \n",
       "1      Chevy Chase, MD                  0      0    0    0    Senior   \n",
       "2       Alexandria, MN                  0      0    0    0    Senior   \n",
       "3           Boston, MA                  0      0    0    0       n/a   \n",
       "4           Lorton, VA                  0      0    0    0       n/a   \n",
       "5          Bethany, CT                  0      0    0    0    Senior   \n",
       "6    East Syracuse, NY                  0      0    0    0       n/a   \n",
       "7        Middleton, WI                  0      0    0    0       n/a   \n",
       "8        Middleton, WI                  0      0    0    0    Senior   \n",
       "9     White Plains, NY                  0      0    0    0       n/a   \n",
       "10           Ogden, UT                  0      0    0    0       n/a   \n",
       "11          Laurel, MD                  0      0    0    0       n/a   \n",
       "12      Winchester, KY                  0      0    0    0       n/a   \n",
       "13                  -1                  0      0    0    0       n/a   \n",
       "14       Billerica, MA                  0      0    0    0       n/a   \n",
       "15        Chubbuck, ID                  0      0    0    0       n/a   \n",
       "16  Salt Lake City, UT                  0      0    0    0       n/a   \n",
       "17  Salt Lake City, UT                  0      1    0    0       n/a   \n",
       "18     Baton Rouge, LA                  0      0    0    0       n/a   \n",
       "19          Camden, NJ                  0      1    0    1       n/a   \n",
       "20      Cincinnati, OH                  0      1    0    0       n/a   \n",
       "21      Winchester, KY                  0      0    0    0       n/a   \n",
       "\n",
       "    desc_len  min_salary  max_salary  avg_salary  hourly  \n",
       "0        438          56          56        56.0       0  \n",
       "1        972         139         139       139.0       0  \n",
       "2        975          68          68        68.0       0  \n",
       "3       1243         114         114       114.0       0  \n",
       "4       1084         120         120       120.0       0  \n",
       "5        549          75          75        75.0       0  \n",
       "6        944          51          51        51.0       0  \n",
       "7        717          62          62        62.0       0  \n",
       "8        938          98          98        98.0       0  \n",
       "9        479          48          48        24.0       1  \n",
       "10       898          44          44        44.0       0  \n",
       "11      2386          79          79        79.0       0  \n",
       "12      1440          38          38        38.0       0  \n",
       "13         2          61          61        61.0       0  \n",
       "14       762          35          35        35.0       0  \n",
       "15       808          61          61        61.0       0  \n",
       "16       842          91          91        91.0       0  \n",
       "17      1169          67          67        67.0       0  \n",
       "18       488          34          34        17.0       1  \n",
       "19      3503          76          76        76.0       0  \n",
       "20      2342          81          81        81.0       0  \n",
       "21      1431          40          40        40.0       0  "
      ]
     },
     "execution_count": 26,
     "metadata": {},
     "output_type": "execute_result"
    }
   ],
   "source": [
    "data"
   ]
  },
  {
   "cell_type": "code",
   "execution_count": 38,
   "metadata": {},
   "outputs": [
    {
     "data": {
      "image/png": "[encoded data removed]",
      "text/plain": [
       "<Figure size 432x288 with 1 Axes>"
      ]
     },
     "metadata": {
      "needs_background": "light"
     },
     "output_type": "display_data"
    },
    {
     "data": {
      "image/png": "[encoded data removed]",
      "text/plain": [
       "<Figure size 432x288 with 1 Axes>"
      ]
     },
     "metadata": {
      "needs_background": "light"
     },
     "output_type": "display_data"
    }
   ],
   "source": [
    "\n",
    "for i in data[['Rating', 'avg_salary']]:\n",
    "    df = data[i].value_counts()\n",
    "    sns.barplot(x=df.index, y=df)\n",
    "    plt.show()"
   ]
  }
 ],
 "metadata": {
  "kernelspec": {
   "display_name": "Python 3",
   "language": "python",
   "name": "python3"
  },
  "language_info": {
   "codemirror_mode": {
    "name": "ipython",
    "version": 3
   },
   "file_extension": ".py",
   "mimetype": "text/x-python",
   "name": "python",
   "nbconvert_exporter": "python",
   "pygments_lexer": "ipython3",
   "version": "3.8.5"
  }
 },
 "nbformat": 4,
 "nbformat_minor": 4
}
