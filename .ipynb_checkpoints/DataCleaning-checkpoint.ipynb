{
 "cells": [
  {
   "cell_type": "code",
   "execution_count": 1,
   "metadata": {},
   "outputs": [],
   "source": [
    "import pandas as pd"
   ]
  },
  {
   "cell_type": "code",
   "execution_count": 2,
   "metadata": {},
   "outputs": [],
   "source": [
    "data = pd.read_csv('Glassdoor_jobs.csv')\n",
    "data\n",
    "\n",
    "data['Per Hour'] = data['Salary Estimate'].apply(lambda x: 1 if 'per hour' in x.lower() else 0)\n",
    "data['Employee Provided'] = data['Salary Estimate'].apply(lambda x: 1 if 'employee provided salary' in x.lower() else 0)"
   ]
  },
  {
   "cell_type": "markdown",
   "metadata": {},
   "source": [
    "# Data cleaning \n",
    "1. Remove Employer Provided Salary\n",
    "2. In job description, just add the requrements like (Python & so on)\n",
    "3. Remove null values"
   ]
  },
  {
   "cell_type": "code",
   "execution_count": 3,
   "metadata": {},
   "outputs": [
    {
     "data": {
      "text/plain": [
       "3      67 - 82 \n",
       "4           17 \n",
       "6      58 - 63 \n",
       "8      48 - 77 \n",
       "9     250 - 450\n",
       "11     38 - 43 \n",
       "12    112 - 207\n",
       "13     79 - 120\n",
       "Name: Salary Estimate, dtype: object"
      ]
     },
     "execution_count": 3,
     "metadata": {},
     "output_type": "execute_result"
    }
   ],
   "source": [
    "data = data[data['Salary Estimate'] != '-1']\n",
    "salary = data['Salary Estimate'].apply(lambda x: x.split(':')[1])\n",
    "salary = salary.apply(lambda x: x.replace('Per Hour','').replace('$','').replace('K',''))\n",
    "salary\n"
   ]
  },
  {
   "cell_type": "code",
   "execution_count": 4,
   "metadata": {},
   "outputs": [
    {
     "data": {
      "text/html": [
       "<div>\n",
       "<style scoped>\n",
       "    .dataframe tbody tr th:only-of-type {\n",
       "        vertical-align: middle;\n",
       "    }\n",
       "\n",
       "    .dataframe tbody tr th {\n",
       "        vertical-align: top;\n",
       "    }\n",
       "\n",
       "    .dataframe thead th {\n",
       "        text-align: right;\n",
       "    }\n",
       "</style>\n",
       "<table border=\"1\" class=\"dataframe\">\n",
       "  <thead>\n",
       "    <tr style=\"text-align: right;\">\n",
       "      <th></th>\n",
       "      <th>Job Title</th>\n",
       "      <th>Salary Estimate</th>\n",
       "      <th>Job Description</th>\n",
       "      <th>Rating</th>\n",
       "      <th>Company Name</th>\n",
       "      <th>Location</th>\n",
       "      <th>Per Hour</th>\n",
       "      <th>Employee Provided</th>\n",
       "      <th>Min Salary</th>\n",
       "      <th>Max Salary</th>\n",
       "      <th>Average Salary</th>\n",
       "    </tr>\n",
       "  </thead>\n",
       "  <tbody>\n",
       "    <tr>\n",
       "      <th>3</th>\n",
       "      <td>Data Scientist</td>\n",
       "      <td>Employer Provided Salary:$67 - $82 Per Hour</td>\n",
       "      <td>HI Professional\\nHope you are doing good\\nWe h...</td>\n",
       "      <td>4.4</td>\n",
       "      <td>ids</td>\n",
       "      <td>Remote</td>\n",
       "      <td>1</td>\n",
       "      <td>0</td>\n",
       "      <td>67</td>\n",
       "      <td>67</td>\n",
       "      <td>67.0</td>\n",
       "    </tr>\n",
       "    <tr>\n",
       "      <th>4</th>\n",
       "      <td>Data Science Intern</td>\n",
       "      <td>Employer Provided Salary:$17 Per Hour</td>\n",
       "      <td>Remote Summer Intern\\nOnline education is no l...</td>\n",
       "      <td>4.7</td>\n",
       "      <td>Noodle</td>\n",
       "      <td>Remote</td>\n",
       "      <td>1</td>\n",
       "      <td>0</td>\n",
       "      <td>17</td>\n",
       "      <td>17</td>\n",
       "      <td>17.0</td>\n",
       "    </tr>\n",
       "    <tr>\n",
       "      <th>6</th>\n",
       "      <td>Sr. Data Scientist</td>\n",
       "      <td>Employer Provided Salary:$58 - $63 Per Hour</td>\n",
       "      <td>Knowledge and experience in building and analy...</td>\n",
       "      <td>4.1</td>\n",
       "      <td>Pricesenz</td>\n",
       "      <td>Remote</td>\n",
       "      <td>1</td>\n",
       "      <td>0</td>\n",
       "      <td>58</td>\n",
       "      <td>58</td>\n",
       "      <td>58.0</td>\n",
       "    </tr>\n",
       "    <tr>\n",
       "      <th>8</th>\n",
       "      <td>-1</td>\n",
       "      <td>Employer Provided Salary:$48 - $77 Per Hour</td>\n",
       "      <td>-1</td>\n",
       "      <td>-1.0</td>\n",
       "      <td>-1</td>\n",
       "      <td>-1</td>\n",
       "      <td>1</td>\n",
       "      <td>0</td>\n",
       "      <td>48</td>\n",
       "      <td>48</td>\n",
       "      <td>48.0</td>\n",
       "    </tr>\n",
       "    <tr>\n",
       "      <th>9</th>\n",
       "      <td>Data Scientist</td>\n",
       "      <td>Employer Provided Salary:$250K - $450K</td>\n",
       "      <td>Our Mission\\nWe’re here to create a safer, hap...</td>\n",
       "      <td>4.7</td>\n",
       "      <td>Blue Owl</td>\n",
       "      <td>San Francisco, CA</td>\n",
       "      <td>0</td>\n",
       "      <td>0</td>\n",
       "      <td>250</td>\n",
       "      <td>250</td>\n",
       "      <td>250.0</td>\n",
       "    </tr>\n",
       "    <tr>\n",
       "      <th>11</th>\n",
       "      <td>Data Scientist</td>\n",
       "      <td>Employer Provided Salary:$38 - $43 Per Hour</td>\n",
       "      <td>Title : Data Scientist\\nJob Type : Long-term C...</td>\n",
       "      <td>3.0</td>\n",
       "      <td>EGRS</td>\n",
       "      <td>Cincinnati, OH</td>\n",
       "      <td>1</td>\n",
       "      <td>0</td>\n",
       "      <td>38</td>\n",
       "      <td>38</td>\n",
       "      <td>38.0</td>\n",
       "    </tr>\n",
       "    <tr>\n",
       "      <th>12</th>\n",
       "      <td>Sr. Data Scientist with Python and Machining L...</td>\n",
       "      <td>Employer Provided Salary:$112K - $207K</td>\n",
       "      <td>Need Senior Data Scientist with Python and Mac...</td>\n",
       "      <td>3.7</td>\n",
       "      <td>Simplex Info</td>\n",
       "      <td>Remote</td>\n",
       "      <td>0</td>\n",
       "      <td>0</td>\n",
       "      <td>112</td>\n",
       "      <td>112</td>\n",
       "      <td>112.0</td>\n",
       "    </tr>\n",
       "    <tr>\n",
       "      <th>13</th>\n",
       "      <td>Data Scientist - HEDIS - REMOTE</td>\n",
       "      <td>Employer Provided Salary:$79K - $120K</td>\n",
       "      <td>Join our team as a Data Scientist -HEDIS!\\nFro...</td>\n",
       "      <td>3.7</td>\n",
       "      <td>Presbyterian Healthcare Services</td>\n",
       "      <td>United States</td>\n",
       "      <td>0</td>\n",
       "      <td>0</td>\n",
       "      <td>79</td>\n",
       "      <td>79</td>\n",
       "      <td>79.0</td>\n",
       "    </tr>\n",
       "  </tbody>\n",
       "</table>\n",
       "</div>"
      ],
      "text/plain": [
       "                                            Job Title  \\\n",
       "3                                      Data Scientist   \n",
       "4                                 Data Science Intern   \n",
       "6                                  Sr. Data Scientist   \n",
       "8                                                  -1   \n",
       "9                                      Data Scientist   \n",
       "11                                     Data Scientist   \n",
       "12  Sr. Data Scientist with Python and Machining L...   \n",
       "13                    Data Scientist - HEDIS - REMOTE   \n",
       "\n",
       "                                Salary Estimate  \\\n",
       "3   Employer Provided Salary:$67 - $82 Per Hour   \n",
       "4         Employer Provided Salary:$17 Per Hour   \n",
       "6   Employer Provided Salary:$58 - $63 Per Hour   \n",
       "8   Employer Provided Salary:$48 - $77 Per Hour   \n",
       "9        Employer Provided Salary:$250K - $450K   \n",
       "11  Employer Provided Salary:$38 - $43 Per Hour   \n",
       "12       Employer Provided Salary:$112K - $207K   \n",
       "13        Employer Provided Salary:$79K - $120K   \n",
       "\n",
       "                                      Job Description  Rating  \\\n",
       "3   HI Professional\\nHope you are doing good\\nWe h...     4.4   \n",
       "4   Remote Summer Intern\\nOnline education is no l...     4.7   \n",
       "6   Knowledge and experience in building and analy...     4.1   \n",
       "8                                                  -1    -1.0   \n",
       "9   Our Mission\\nWe’re here to create a safer, hap...     4.7   \n",
       "11  Title : Data Scientist\\nJob Type : Long-term C...     3.0   \n",
       "12  Need Senior Data Scientist with Python and Mac...     3.7   \n",
       "13  Join our team as a Data Scientist -HEDIS!\\nFro...     3.7   \n",
       "\n",
       "                        Company Name           Location  Per Hour  \\\n",
       "3                                ids             Remote         1   \n",
       "4                             Noodle             Remote         1   \n",
       "6                          Pricesenz             Remote         1   \n",
       "8                                 -1                 -1         1   \n",
       "9                           Blue Owl  San Francisco, CA         0   \n",
       "11                              EGRS     Cincinnati, OH         1   \n",
       "12                      Simplex Info             Remote         0   \n",
       "13  Presbyterian Healthcare Services      United States         0   \n",
       "\n",
       "    Employee Provided  Min Salary  Max Salary  Average Salary  \n",
       "3                   0          67          67            67.0  \n",
       "4                   0          17          17            17.0  \n",
       "6                   0          58          58            58.0  \n",
       "8                   0          48          48            48.0  \n",
       "9                   0         250         250           250.0  \n",
       "11                  0          38          38            38.0  \n",
       "12                  0         112         112           112.0  \n",
       "13                  0          79          79            79.0  "
      ]
     },
     "execution_count": 4,
     "metadata": {},
     "output_type": "execute_result"
    }
   ],
   "source": [
    "data['Min Salary'] = salary.apply(lambda x : int(x.split('-')[0]))\n",
    "data['Max Salary'] = salary.apply(lambda x : int(x.split('-')[0]))\n",
    "data['Average Salary'] = (data['Min Salary']+ data['Max Salary'])/2\n",
    "data"
   ]
  },
  {
   "cell_type": "code",
   "execution_count": 5,
   "metadata": {
    "scrolled": true
   },
   "outputs": [
    {
     "data": {
      "text/plain": [
       "0    6\n",
       "1    2\n",
       "Name: Python, dtype: int64"
      ]
     },
     "execution_count": 5,
     "metadata": {},
     "output_type": "execute_result"
    }
   ],
   "source": [
    "data['Python'] = data['Job Description'].apply(lambda x: 1 if 'Python' in x else 0 )\n",
    "data.Python.value_counts()"
   ]
  },
  {
   "cell_type": "code",
   "execution_count": 6,
   "metadata": {},
   "outputs": [
    {
     "data": {
      "text/plain": [
       "1    8\n",
       "Name: R_studio, dtype: int64"
      ]
     },
     "execution_count": 6,
     "metadata": {},
     "output_type": "execute_result"
    }
   ],
   "source": [
    "data['R_studio'] = data['Job Description'].apply(lambda x: 1 if 'r-studio' or 'r studio' in x.lower() else 0 )\n",
    "data.R_studio.value_counts()"
   ]
  },
  {
   "cell_type": "code",
   "execution_count": 7,
   "metadata": {},
   "outputs": [
    {
     "data": {
      "text/plain": [
       "0    8\n",
       "Name: Spark, dtype: int64"
      ]
     },
     "execution_count": 7,
     "metadata": {},
     "output_type": "execute_result"
    }
   ],
   "source": [
    "data['Spark'] = data['Job Description'].apply(lambda x: 1 if 'spark' in x.lower() else 0 )\n",
    "data.Spark.value_counts()"
   ]
  },
  {
   "cell_type": "code",
   "execution_count": 8,
   "metadata": {},
   "outputs": [
    {
     "data": {
      "text/plain": [
       "0    8\n",
       "Name: Excel, dtype: int64"
      ]
     },
     "execution_count": 8,
     "metadata": {},
     "output_type": "execute_result"
    }
   ],
   "source": [
    "data['Excel'] = data['Job Description'].apply(lambda x: 1 if 'excel' in x.lower() else 0 )\n",
    "data.Excel.value_counts()"
   ]
  },
  {
   "cell_type": "code",
   "execution_count": 9,
   "metadata": {},
   "outputs": [
    {
     "data": {
      "text/plain": [
       "0    8\n",
       "Name: AWS, dtype: int64"
      ]
     },
     "execution_count": 9,
     "metadata": {},
     "output_type": "execute_result"
    }
   ],
   "source": [
    "data['AWS'] = data['Job Description'].apply(lambda x: 1 if 'aws' in x.lower() else 0 )\n",
    "data.AWS.value_counts()"
   ]
  },
  {
   "cell_type": "code",
   "execution_count": 10,
   "metadata": {},
   "outputs": [
    {
     "data": {
      "text/plain": [
       "0    8\n",
       "Name: SQL, dtype: int64"
      ]
     },
     "execution_count": 10,
     "metadata": {},
     "output_type": "execute_result"
    }
   ],
   "source": [
    "data['SQL'] = data['Job Description'].apply(lambda x: 1 if 'sql' in x.lower() else 0 )\n",
    "data.SQL.value_counts()"
   ]
  },
  {
   "cell_type": "code",
   "execution_count": null,
   "metadata": {},
   "outputs": [],
   "source": []
  }
 ],
 "metadata": {
  "kernelspec": {
   "display_name": "Python 3",
   "language": "python",
   "name": "python3"
  },
  "language_info": {
   "codemirror_mode": {
    "name": "ipython",
    "version": 3
   },
   "file_extension": ".py",
   "mimetype": "text/x-python",
   "name": "python",
   "nbconvert_exporter": "python",
   "pygments_lexer": "ipython3",
   "version": "3.8.5"
  }
 },
 "nbformat": 4,
 "nbformat_minor": 4
}
